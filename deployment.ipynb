{
 "cells": [
  {
   "cell_type": "markdown",
   "metadata": {},
   "source": [
    "# <center> Deployment of Ml models </center>"
   ]
  },
  {
   "cell_type": "markdown",
   "metadata": {},
   "source": [
    "## <center> AWS Deployment <center>"
   ]
  },
  {
   "cell_type": "markdown",
   "metadata": {},
   "source": [
    "### Cloud Deployment (AWS)\n",
    "\n",
    "Once the training is completed, we need to expose the trained model as an API for the user to consume it. For prediction, the saved model is loaded first and then the predictions are made using it. If the web app works fine, the same app is deployed to the cloud platform. The application flow for cloud deployment looks like:\n",
    "\n",
    "<img src=\"images/testing_pipeline.PNG\" width= \"300\">"
   ]
  },
  {
   "cell_type": "markdown",
   "metadata": {},
   "source": [
    "##### Pre-requisites:\n",
    "* Basic knowledge of flask framework.\n",
    "* Any Python IDE installed(we are using PyCharm).\n",
    "* A Microsoft Azure account. \n",
    "* Basic understanding of HTML.\n"
   ]
  },
  {
   "cell_type": "markdown",
   "metadata": {},
   "source": [
    "#### Deployment Steps:\n",
    "\n",
    "1. Create the project structure, as shown below:\n",
    "    \n",
    "<img src=\"images/folder_structure.png\" width=\"300\">"
   ]
  },
  {
   "cell_type": "raw",
   "metadata": {},
   "source": [
    "2. Create the 'app.py' file as:\n",
    "    \n",
    "# importing the necessary dependencies\n",
    "from flask import Flask, render_template, request,jsonify\n",
    "from flask_cors import CORS,cross_origin\n",
    "import pickle\n",
    "from flask import Response\n",
    "import numpy as np\n",
    "\n",
    "app = Flask(__name__) # initializing a flask app\n",
    "\n",
    "\n",
    "@app.route('/predict',methods=['POST','GET']) # route to show the predictions\n",
    "@cross_origin()\n",
    "def index():\n",
    "    if request.method == 'POST':\n",
    "        try:\n",
    "            #  reading the inputs given by the user\n",
    "            annual_income=float(request.json['annual_income'])\n",
    "            spending_score = float(request.json['spending_score'])\n",
    "            filename = 'finalized_model.pickle'\n",
    "            loaded_model = pickle.load(open(filename, 'rb')) # loading the model file from the storage\n",
    "            # predictions using the loaded model file\n",
    "            prediction=loaded_model.predict(np.asarray([[annual_income,spending_score]]))\n",
    "            print('prediction is', (list(prediction)[0]))\n",
    "            # showing the prediction results in a UI\n",
    "            return Response(str((list(prediction)[0])))\n",
    "        except Exception as e:\n",
    "            print('The Exception message is: ',e)\n",
    "            return Response('something is wrong.')\n",
    "\n",
    "\n",
    "\n",
    "if __name__ == \"__main__\":\n",
    "    #app.run(host='127.0.0.1', port=8001, debug=True)\n",
    "   app.run(debug=True) # running the app\n",
    "\n"
   ]
  },
  {
   "cell_type": "markdown",
   "metadata": {},
   "source": [
    "3. Go to https://portal.azure.com/ and create an account if already haven’t created one.\n",
    "4. Go to the Azure account and create a web app.\n",
    "<img src=\"images/web_app.PNG\" width=\"300\">\n",
    "\n",
    "5. Provide the app name, resource group(create new if necessary), runtime stack(Python 3.7), region, select the 1 GB size, which is free to use. Click Review+create to create the web app\n",
    "\n",
    "<img src=\"images/web_app2.PNG\" width=\"300\">\n",
    "\n",
    "6. Once the deployment is completed, open the app and go to the ‘Deployment Center’ option. Select ‘local git’ for source control and click continue\n",
    "\n",
    "<img src=\"images/after_deployment.PNG\" width=\"300\">\n",
    "\n",
    "7. Select the kudo ‘App service build provider’ as the build provider and click continue.\n",
    "\n",
    "<img src=\"images/kudo.PNG\" width=\"300\">\n",
    "\n",
    "8. Click ‘Finish’ to complete the setup.\n",
    "9. Go to the overview section of the app, and the Git link now will be visible.\n",
    "<img src=\"images/local_git.PNG\" width=\"300\">\n",
    "\n",
    "10. Go to ‘Deployment Credentials’ in deployment center and copy the username and password. These will be required when doing the final push to the remote git repository.\n",
    "<img src=\"images/cred.PNG\" width=\"300\">\n",
    "\n",
    "11. Open a command prompt and navigate to your project folder.\n",
    "12. Run **git init** to initialise an empty git repository\n",
    "13. Create a new remote git alias using the command: git remote add <alias> <git clone url>\n",
    "    \n",
    "14. Use **git add .** to add all the files to the local git repository.\n",
    "15. Use **git commit -m \"first commit\"** to commit the code to the git repo.\n",
    "16. Push the code to the remote repo using: git push <alias> master –f\n",
    "    \n",
    "17. This prompts for a username and password. Provide the same credentials as copied in the step above.\n",
    "18. After deployment, from the ‘overview’ section, copy the URL and paste into any web API test to see the application running.\n",
    "<img src=\"images/final.PNG\" width=\"300\">\n"
   ]
  },
  {
   "cell_type": "code",
   "execution_count": null,
   "metadata": {},
   "outputs": [],
   "source": []
  },
  {
   "cell_type": "code",
   "execution_count": null,
   "metadata": {},
   "outputs": [],
   "source": []
  },
  {
   "cell_type": "code",
   "execution_count": null,
   "metadata": {},
   "outputs": [],
   "source": []
  }
 ],
 "metadata": {
  "kernelspec": {
   "display_name": "Python 3",
   "language": "python",
   "name": "python3"
  },
  "language_info": {
   "codemirror_mode": {
    "name": "ipython",
    "version": 3
   },
   "file_extension": ".py",
   "mimetype": "text/x-python",
   "name": "python",
   "nbconvert_exporter": "python",
   "pygments_lexer": "ipython3",
   "version": "3.8.5"
  }
 },
 "nbformat": 4,
 "nbformat_minor": 4
}
