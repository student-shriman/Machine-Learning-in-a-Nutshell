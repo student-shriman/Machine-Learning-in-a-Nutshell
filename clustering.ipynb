{
 "cells": [
  {
   "cell_type": "markdown",
   "metadata": {},
   "source": [
    "#  Clustering =>  An unsupervised ML approach"
   ]
  },
  {
   "cell_type": "code",
   "execution_count": null,
   "metadata": {},
   "outputs": [],
   "source": [
    "    ################    #############  Lifecycle of an Unsupervised ML model     ###############    ##############\n",
    "\n",
    " =>  Before proceeding with the algorithm, let’s first discuss the lifecycle of an Unsupervised Machine Learning \n",
    "       model. \n",
    "    \n",
    " =>  This diagram explains the creation of an Unsupervised Machine Learning model from scratch and then taking \n",
    "      the same model further with Hyperparameters tuning to increase its Accuracy, deciding the deployment\n",
    "       strategies for that model and once deployed setting up the logging and monitoring frameworks to generate \n",
    "        reports and dashboards based on the client requirements. "
   ]
  },
  {
   "cell_type": "markdown",
   "metadata": {},
   "source": [
    "> <center> <b>Typical lifecycle diagram for an Unsupervised Machine learning model <b> </center>\n",
    "<img src=\"images/unsupervised_ApplicationFlow.png\" width= \"420 px\">"
   ]
  },
  {
   "cell_type": "code",
   "execution_count": null,
   "metadata": {},
   "outputs": [],
   "source": [
    "       ###############   #############   Introduction To Clustering    ###############    ################\n",
    " \n",
    " =>  Let’s suppose we give a child different objects to group. How does a child make a group?\n",
    "      The child may group over the colour, over the shape, over the hardness or softness of the objects etc.\n",
    "      \n",
    "   * The basic idea here is that the child tries to find out similarities and dissimilarities between different\n",
    "       objects and then tries to make a group of similar objects.\n",
    "     \n",
    "   * This is called Clustering, the method of identifying similar instances and keeping them together.\n",
    "       or In Other words, Clustering identifies homogeneous subgroups among the observations.\n",
    "    \n",
    " =>  Clustering is an Unsupervised approach which finds a structure/pattern in a collection of unlabeled data.\n",
    "\n",
    " =>  A cluster is a collection of objects which are “similar” amongst themselves and are dissimilar to the objects          \n",
    "       belonging to a different cluster.\n",
    "        \n",
    " =>  In the figure below, we can easily identify 4 different clusters. \n",
    "     The clustering criteria here is distance and whichever points are near to each other are kept in the same \n",
    "      cluster and the faraway points belong to a different cluster."
   ]
  },
  {
   "cell_type": "markdown",
   "metadata": {},
   "source": [
    "> <center> <b>Clustering data points on the basis of colors and distances <b> </center>\n",
    "<img src='images/clusters.png' width='500px'>"
   ]
  },
  {
   "cell_type": "code",
   "execution_count": null,
   "metadata": {},
   "outputs": [],
   "source": [
    "        ##############    ##############   The Goal of Clustering   ##############   ###############\n",
    "\n",
    " => The goal of clustering is to determine the intrinsic groups in unlabeled data.\n",
    "      \n",
    "     * The question is that what constitutes a good cluster? \n",
    "      \n",
    "     * It can be shown that there is no absolute “best” criterion for cluster validation. \n",
    "        Consequently, it is the user who must supply the criterion for validating the cluster.\n",
    "        \n",
    "     * For example, we might be interested in finding representatives of homogeneous instances for finding the \n",
    "        natural clusters and identifying their unknown properties like natural data types, for finding \n",
    "        appropriate groupings or in finding unusual(which are different from all other data) data objects \n",
    "         (outlier detection). "
   ]
  },
  {
   "cell_type": "markdown",
   "metadata": {},
   "source": [
    "##  <center> <b>Applications of Clustering <b> </center> "
   ]
  },
  {
   "cell_type": "markdown",
   "metadata": {},
   "source": [
    "<b> 1. For customer segmentation </b> \n",
    "\n",
    "> You can cluster your customers based on their purchases,their activity on your website, and so on. This is useful to understand who your customers are and what they need, so you can adapt your products and marketing campaigns to each segment. For example, this can be useful in recommender systems to suggest content that other users in the same cluster enjoyed.\n",
    "\n",
    "\n",
    "<b> 2. For data analysis </b>\n",
    "\n",
    "> When analyzing a new dataset, it is often useful to first discover clusters of similar instances, as it is often easier to analyze clusters separately.\n",
    "\n",
    "\n",
    "<b> 3. As a dimensionality reduction technique </b>  \n",
    "\n",
    "> Once a dataset has been clustered, it is usually possible to measure each instance’s affinity with each cluster (affinity is any measure of how well an instance fits into a cluster). Each instance’s feature vector x can then be replaced with the vector of its cluster affinities. If there are k clusters, then this vector is k dimensional. This is typically much lower dimensional than the original feature vector, but it can preserve enough information for further processing.\n",
    "\n",
    "\n",
    " \n",
    "<b> 4. For anomaly detection (also called outlier detection) </b>\n",
    "\n",
    "> Any instance that has a low affinity to all the clusters is likely to be an anomaly. For example, if you have clustered the users of your website based on their behavior, you can detect users with unusual behavior, such as an unusual number of requests per second, and so on. Anomaly detection is particularly useful in detecting defects in manufacturing, or for fraud detection.\n",
    "\n",
    "\n",
    "<b> 5. For semi-supervised learning </b> \n",
    "\n",
    "> If you only have a few labels, you could perform clustering and propagate the labels to all the instances in the same cluster. This can greatly increase the amount of labels available for a subsequent supervised learning algorithm, and thus improve its performance.\n",
    ".\n",
    "\n",
    "\n",
    "<b> 6. For search engines </b>\n",
    "\n",
    "> For example, some search engines let you search for images that are similar to a reference image. To build such a system, you would first apply a clustering algorithm to all the images in your database: similar images would end up in the same cluster. Then when a user provides a reference image, all you need to do is to find this image’s cluster using the trained clustering model, and you can then simply return all the images from this cluster.\n",
    "\n",
    "\n",
    "<b> 7. To segment an image </b>\n",
    "\n",
    "> By clustering pixels according to their color, then replacing each pixel’s color with the mean color of its cluster, it is possible to reduce the number of different colors in the image considerably. This technique is used in many object detection and tracking systems, as it makes it easier to detect the contour of each object.\n"
   ]
  },
  {
   "cell_type": "code",
   "execution_count": null,
   "metadata": {},
   "outputs": [],
   "source": [
    "    #############  ###########  Primary requirements for a Clustering algorithm  ############  ############\n",
    " \n",
    " *  It should be scalable for various shapes of dataset.\n",
    "        \n",
    " *  It should be able to deal with attributes of different types like as Categorical, floats & integers. \n",
    "\n",
    " *  It should be able to discover arbitrary shape clusters;\n",
    " \n",
    " *  It should have an inbuilt ability to deal with noise and outliers;\n",
    "  \n",
    " *  The clusters should not vary with the order of input records;\n",
    "  \n",
    " *  It should be able to handle data of high dimensions.\n",
    " \n",
    " *  It should be easy to interpret and use."
   ]
  },
  {
   "cell_type": "code",
   "execution_count": null,
   "metadata": {},
   "outputs": [],
   "source": [
    "          ##############   #############   Approaches for Clustering    ################    ################\n",
    "    \n",
    " =>  The Clustering approaches can be broadly divided into two categories  ->  Agglomerative and Divisive.\n",
    "\n",
    " =>  In Agglomerative approach, We first considers all the points as individual clusters and then finds out the\n",
    "      similarity between two points, puts them into a cluster. Then it goes on finding similar points and clusters\n",
    "        until there is only one cluster left i.e., all points belong to a big cluster. \n",
    "        This is also called the Bottom-up approach.\n",
    "\n",
    " =>  In Divisive approach, we first considers all the points to be part of one big cluster and in the subsequent \n",
    "      steps tries to find out the points/clusters which are least similar to each other and then breaks the bigger\n",
    "      cluster into smaller ones. This continues until there are as many clusters as there are datapoints.\n",
    "        This is also called the Top-down approach.\n",
    "        "
   ]
  },
  {
   "cell_type": "code",
   "execution_count": null,
   "metadata": {},
   "outputs": [],
   "source": [
    "          ###############    ############    History of K-Means Clustering    ##############    ###############\n",
    "\n",
    " =>  K-means clustering was proposed by Stuart Lloyd at the Bell Labs in 1957 as a technique for pulse-code \n",
    "       modulation, but it was only published outside of the company in 1982, in a paper titled “Least square \n",
    "      quantization in PCM”.\n",
    "      By then, in 1965, Edward W. Forgy had published virtually the same algorithm, so K-Means is sometimes \n",
    "        referred to Lloyd-Forgy.\n",
    "\n",
    " =>  K-Means is a Divisive clustering approach in which the data is grouped into K distinct non-overlapping \n",
    "       clusters based on their distances from the K centres. The value of 'K' needs to be specified first and \n",
    "      then the algorithm assigns the points to exactly one cluster."
   ]
  },
  {
   "cell_type": "code",
   "execution_count": null,
   "metadata": {},
   "outputs": [],
   "source": [
    "      ##############    ############   Algorithm for K-means Clustering  ############    ##############\n",
    "\n",
    " =>  Randomly assign K centres.\n",
    " \n",
    " =>  Calculate the distance of all the points from all the K centres and allocate the points to cluster based on \n",
    "       the shortest distance. \n",
    "     \n",
    " =>  The model’s inertia is the mean squared distance between each instance and its closest centroid. \n",
    "       The goal is to have a model with the lowest intertia.\n",
    "\n",
    " =>   Once all the points are assigned to clusters, recompute the centroids.\n",
    "\n",
    " =>  Repeat the steps 2 and 3 until the locations of the centroids stop changing and the cluster allocation of \n",
    "      the points becomes constant."
   ]
  },
  {
   "cell_type": "markdown",
   "metadata": {},
   "source": [
    "##  <center>How K-means Clustering works ? </center>"
   ]
  },
  {
   "cell_type": "code",
   "execution_count": null,
   "metadata": {},
   "outputs": [],
   "source": [
    " * Consider a collection of points that are sampled from three different densities, in this case normal densities \n",
    "     with the same covariances but different means.\n",
    "    \n",
    " *  Here is a Scatterplot of whole dataset. We clearly see three clusters, corresponding to the three mixture\n",
    "     components."
   ]
  },
  {
   "cell_type": "markdown",
   "metadata": {},
   "source": [
    "<img src='images/pic1.png' width=200 px>"
   ]
  },
  {
   "cell_type": "code",
   "execution_count": null,
   "metadata": {},
   "outputs": [],
   "source": [
    " =>  In Beginning there was a single cluster with a single Centroid and we have some value of 'WCSS'.\n",
    "\n",
    " =>  At very first, we take some 'k' arbitrary points and then we try to map the Centres of these Arbitrary points \n",
    "      to any of the nearest datapoint. After mapping these 2 points, they makes a cluster.\n",
    "        \n",
    " =>  After mapping and making a cluster, Centroid for this cluster will be change at some different co-ordinates.\n",
    "    \n",
    " =>  Then with a new Centroid, we maps some other Nearest datapoint to this cluster, and after mapping centroid \n",
    "       will change again at some different position.\n",
    "    \n",
    " =>  This above process occurs with all 'k' Arbitrary points repeatedly unless, we have maximum 'k' number of \n",
    "       clusters, each having 'wcss' equals to zero..\n"
   ]
  },
  {
   "cell_type": "markdown",
   "metadata": {},
   "source": [
    "<img src='images/pic2.png' width=240px>\n",
    "<img src='images/pic3.png' width=240px>\n",
    "<img src='images/pic4.png' width=240px>\n",
    "<img src='images/pic5.png' width=240px>\n",
    "<img src='images/pic6.png' width=240px>"
   ]
  },
  {
   "cell_type": "markdown",
   "metadata": {},
   "source": [
    "<center><b> As you can see, the centers have moved, and it looks like they have generally moved in the right direction. </center></b>"
   ]
  },
  {
   "cell_type": "code",
   "execution_count": null,
   "metadata": {},
   "outputs": [],
   "source": [
    "         ###############   #############    The Elbow method to find 'K'   ##############    ################\n",
    "\n",
    " =>  For getting the value of 'K', we uses this Elbow method.    \n",
    "\n",
    " =>  This method is based on the relationship between the within-cluster sum of squared distances(WCSS Or Inertia) \n",
    "      and the number of clusters.\n",
    "    \n",
    " =>  It is observed that first with an increase in the number of clusters WCSS decreases steeply and then after\n",
    "       a certain number of clusters the drop in WCSS is not that prominent.\n",
    "     \n",
    " =>  The point after which the graph between WCSS and the number of clusters becomes comparatively smoother is \n",
    "      termed as the Elbow and the number of clusters at that point are the optimum number of clusters as even \n",
    "       after increasing the clusters after that point the variation is not decreasing by much.\n",
    "        "
   ]
  },
  {
   "cell_type": "markdown",
   "metadata": {},
   "source": [
    "> <center><b> Elbow diagram </center></b>\n",
    "<img src='images/elbow.PNG' width=720 px>"
   ]
  },
  {
   "cell_type": "code",
   "execution_count": null,
   "metadata": {},
   "outputs": [],
   "source": [
    "      ###############    #############  Steps for K_Means clustering   ##############    ################\n",
    "    \n",
    " =>  We should check for Missing values in dataset and impute them and assign features of dataset to a variable X.\n",
    "\n",
    " =>  Plot the Elbow diagram by fitting the K-Means algorithm and getting the Inertia \n",
    "\n",
    " =>  From Elbow method, we pick the value of 'k' and then fit again the model with new 'k'.\n",
    "\n",
    " =>  kmeans uses fit-predict() method and gives directly the predictions by calling it."
   ]
  },
  {
   "cell_type": "code",
   "execution_count": null,
   "metadata": {},
   "outputs": [],
   "source": [
    "   #############   Python program to Fit the K-means algorithm and draw a graph of elbow method   ##############\n",
    "    \n",
    "from sklearn.cluster import KMeans\n",
    "wcss=[]  \n",
    "for i in range (1,11):\n",
    "                   \n",
    "        # making object of kmeans and fitting to dataset\n",
    "        kmeans = KMeans(n_clusters=i, init='k-means++', random_state=42)\n",
    "        kmeans.fit(X)\n",
    "                   \n",
    "        # Appending the inertia to WCSS List\n",
    "        wcss.append(kmeans.inertia_)\n",
    "\n",
    "        #  Using matplotlib to plot the Elbow diagram\n",
    "        plt.plot(range(1,11), wcss)\n",
    "        plt.title('The Elbow Method')\n",
    "        plt.xlabel('Number of clusters')\n",
    "        plt.ylabel('WCSS')\n",
    "        plt.show()"
   ]
  },
  {
   "cell_type": "markdown",
   "metadata": {},
   "source": [
    "<center><b> Code implementation of k-Means clustering </center></b>"
   ]
  },
  {
   "cell_type": "code",
   "execution_count": 3,
   "metadata": {},
   "outputs": [],
   "source": [
    "#  Importing the K-Means class from sk-learn\n",
    "from sklearn.cluster import KMeans\n",
    "\n",
    "# Making an object of k-means class\n",
    "model = KMeans(n_clusters, init, n_init, max_iter, tol, precompute_distances, verbose, random_state, copy_x\n",
    "               n_jobs, algorithm)\n",
    "\n",
    "# Fitting model to data\n",
    "model.fit(X)\n",
    "\n",
    "# some Important methods and attributes regarding the K-Means model\n",
    "\n",
    "# Getting predictions by passing some data points as array\n",
    "kmeans.predict(np.asarray([[x1, x2, .. upto n terms]])) \n",
    "\n",
    "# Gettting the Centroids of all created clusters\n",
    "kmeans.cluster_centers_ \n",
    "\n",
    "# Getting the distances from each instance to every centroid   \n",
    "kmeans.transform(X_new)\n",
    "\n",
    "# Accessing the k-means inertia_ instance variable.\n",
    "kmeans.inertia_\n",
    "\n",
    "# Getting the Accuracy score of model.\n",
    "kmeans.score(X)"
   ]
  },
  {
   "cell_type": "markdown",
   "metadata": {},
   "source": [
    "<center> <b> Parameters of K-Means class </center> </b>"
   ]
  },
  {
   "cell_type": "code",
   "execution_count": null,
   "metadata": {},
   "outputs": [],
   "source": [
    " 1.  n_clusters  ->  (int, default=8)  \n",
    "    \n",
    "        => This specifies the number of clusters to form as well as the number of centroids to generate.\n",
    "    \n",
    " 2.  init  ->  {'k-means++', 'random', 'ndarray', 'callable'}  \n",
    "\n",
    "        ->  This defines a method of initialization.\n",
    "    \n",
    "          * 'k-means++' ->  selects initial cluster centers for k-mean clustering in a smart way to speed up\n",
    "                              convergence. \n",
    "          \n",
    "          * 'random' ->  choose `n_clusters` observations (rows) at random from data for the initial centroids.\n",
    "\n",
    "          * 'ndarray' ->  If an ndarray is passed, it should be of shape (n_clusters, n_features) and gives\n",
    "                             the initial centers.\n",
    "\n",
    "          * 'callable' -> If a callable is passed, it should take arguments X, n_clusters and a random state\n",
    "                             and return an initialization.\n",
    "\n",
    " 3.  n_init  ->  (int, default=10)  \n",
    "    \n",
    "       ->  This defines the number of time the k-means algorithm will be run with different centroid seeds. \n",
    "            The final results will be the best output of n_init consecutive runs in terms of inertia.\n",
    "\n",
    " 4.  max_iter  ->   (int, default=300) \n",
    "\n",
    "       ->  This defines the maximum number of iterations of the K-means algorithms for a single run.\n",
    "    \n",
    " 5.  tol  ->   (float, default = 0.0001)  \n",
    "\n",
    "        ->  This defines the Learning rate a Relative tolerance with regards to Frobenius norm of the difference\n",
    "              in the cluster centers of two consecutive iterations to declare convergence.\n",
    "\n",
    " 6. algorithm  ->  {\"auto\", \"full\", \"elkan\"}, (default=\"auto\")\n",
    "    \n",
    "        -> This defines which K-means algorithm to use. \n",
    "\n",
    "6.  precompute_distances {'auto', True, False}  ->  Default is 'auto'               (Deprecated)\n",
    "    \n",
    " 7.  verbose (int, default = 0)\n",
    "\n",
    " 8.  random_state (default = None)\n",
    "    \n",
    " 9.  copy_x (default = True)\n",
    "\n",
    " 10. n_jobs (int, default = None)                                                    (Deprecated)"
   ]
  },
  {
   "cell_type": "code",
   "execution_count": null,
   "metadata": {},
   "outputs": [],
   "source": [
    "     ###############   #############   Custom Centroid Initialization    ##############    ################\n",
    "\n",
    " =>  If you already know approximately where the centroids should be located, (means if you ran another \n",
    "      clustering algorithm earlier), then you can set the init hyperparameter to a NumPy array containing \n",
    "       the list of centroids.\n",
    "    \n",
    "           >>>  good_init = np.array([[-3, 3], [-3, 2], [-3, 1], [-1, 2], [0, 2]])\n",
    "           >>>  kmeans = KMeans(n_clusters=5, init=good_init, n_init=1)"
   ]
  },
  {
   "cell_type": "markdown",
   "metadata": {},
   "source": [
    "####  Python implementation of K-means Clustering"
   ]
  },
  {
   "cell_type": "code",
   "execution_count": 5,
   "metadata": {},
   "outputs": [
    {
     "name": "stderr",
     "output_type": "stream",
     "text": [
      "Matplotlib is building the font cache; this may take a moment.\n"
     ]
    },
    {
     "data": {
      "text/html": [
       "<div>\n",
       "<style scoped>\n",
       "    .dataframe tbody tr th:only-of-type {\n",
       "        vertical-align: middle;\n",
       "    }\n",
       "\n",
       "    .dataframe tbody tr th {\n",
       "        vertical-align: top;\n",
       "    }\n",
       "\n",
       "    .dataframe thead th {\n",
       "        text-align: right;\n",
       "    }\n",
       "</style>\n",
       "<table border=\"1\" class=\"dataframe\">\n",
       "  <thead>\n",
       "    <tr style=\"text-align: right;\">\n",
       "      <th></th>\n",
       "      <th>CustomerID</th>\n",
       "      <th>Genre</th>\n",
       "      <th>Age</th>\n",
       "      <th>Annual Income (k$)</th>\n",
       "      <th>Spending Score (1-100)</th>\n",
       "    </tr>\n",
       "  </thead>\n",
       "  <tbody>\n",
       "    <tr>\n",
       "      <th>0</th>\n",
       "      <td>1</td>\n",
       "      <td>Male</td>\n",
       "      <td>19</td>\n",
       "      <td>15</td>\n",
       "      <td>39</td>\n",
       "    </tr>\n",
       "    <tr>\n",
       "      <th>1</th>\n",
       "      <td>2</td>\n",
       "      <td>Male</td>\n",
       "      <td>21</td>\n",
       "      <td>15</td>\n",
       "      <td>81</td>\n",
       "    </tr>\n",
       "    <tr>\n",
       "      <th>2</th>\n",
       "      <td>3</td>\n",
       "      <td>Female</td>\n",
       "      <td>20</td>\n",
       "      <td>16</td>\n",
       "      <td>6</td>\n",
       "    </tr>\n",
       "    <tr>\n",
       "      <th>3</th>\n",
       "      <td>4</td>\n",
       "      <td>Female</td>\n",
       "      <td>23</td>\n",
       "      <td>16</td>\n",
       "      <td>77</td>\n",
       "    </tr>\n",
       "    <tr>\n",
       "      <th>4</th>\n",
       "      <td>5</td>\n",
       "      <td>Female</td>\n",
       "      <td>31</td>\n",
       "      <td>17</td>\n",
       "      <td>40</td>\n",
       "    </tr>\n",
       "  </tbody>\n",
       "</table>\n",
       "</div>"
      ],
      "text/plain": [
       "   CustomerID   Genre  Age  Annual Income (k$)  Spending Score (1-100)\n",
       "0           1    Male   19                  15                      39\n",
       "1           2    Male   21                  15                      81\n",
       "2           3  Female   20                  16                       6\n",
       "3           4  Female   23                  16                      77\n",
       "4           5  Female   31                  17                      40"
      ]
     },
     "execution_count": 5,
     "metadata": {},
     "output_type": "execute_result"
    }
   ],
   "source": [
    "#  Importing required libraries\n",
    "import pandas as pd\n",
    "import numpy as np\n",
    "import matplotlib.pyplot as plt\n",
    "\n",
    "#  loading the dataset\n",
    "dataset = pd.read_csv('files/Mall_Customers.csv')\n",
    "dataset.head()"
   ]
  },
  {
   "cell_type": "code",
   "execution_count": 6,
   "metadata": {},
   "outputs": [
    {
     "data": {
      "text/html": [
       "<div>\n",
       "<style scoped>\n",
       "    .dataframe tbody tr th:only-of-type {\n",
       "        vertical-align: middle;\n",
       "    }\n",
       "\n",
       "    .dataframe tbody tr th {\n",
       "        vertical-align: top;\n",
       "    }\n",
       "\n",
       "    .dataframe thead th {\n",
       "        text-align: right;\n",
       "    }\n",
       "</style>\n",
       "<table border=\"1\" class=\"dataframe\">\n",
       "  <thead>\n",
       "    <tr style=\"text-align: right;\">\n",
       "      <th></th>\n",
       "      <th>CustomerID</th>\n",
       "      <th>Age</th>\n",
       "      <th>Annual Income (k$)</th>\n",
       "      <th>Spending Score (1-100)</th>\n",
       "    </tr>\n",
       "  </thead>\n",
       "  <tbody>\n",
       "    <tr>\n",
       "      <th>count</th>\n",
       "      <td>200.000000</td>\n",
       "      <td>200.000000</td>\n",
       "      <td>200.000000</td>\n",
       "      <td>200.000000</td>\n",
       "    </tr>\n",
       "    <tr>\n",
       "      <th>mean</th>\n",
       "      <td>100.500000</td>\n",
       "      <td>38.850000</td>\n",
       "      <td>60.560000</td>\n",
       "      <td>50.200000</td>\n",
       "    </tr>\n",
       "    <tr>\n",
       "      <th>std</th>\n",
       "      <td>57.879185</td>\n",
       "      <td>13.969007</td>\n",
       "      <td>26.264721</td>\n",
       "      <td>25.823522</td>\n",
       "    </tr>\n",
       "    <tr>\n",
       "      <th>min</th>\n",
       "      <td>1.000000</td>\n",
       "      <td>18.000000</td>\n",
       "      <td>15.000000</td>\n",
       "      <td>1.000000</td>\n",
       "    </tr>\n",
       "    <tr>\n",
       "      <th>25%</th>\n",
       "      <td>50.750000</td>\n",
       "      <td>28.750000</td>\n",
       "      <td>41.500000</td>\n",
       "      <td>34.750000</td>\n",
       "    </tr>\n",
       "    <tr>\n",
       "      <th>50%</th>\n",
       "      <td>100.500000</td>\n",
       "      <td>36.000000</td>\n",
       "      <td>61.500000</td>\n",
       "      <td>50.000000</td>\n",
       "    </tr>\n",
       "    <tr>\n",
       "      <th>75%</th>\n",
       "      <td>150.250000</td>\n",
       "      <td>49.000000</td>\n",
       "      <td>78.000000</td>\n",
       "      <td>73.000000</td>\n",
       "    </tr>\n",
       "    <tr>\n",
       "      <th>max</th>\n",
       "      <td>200.000000</td>\n",
       "      <td>70.000000</td>\n",
       "      <td>137.000000</td>\n",
       "      <td>99.000000</td>\n",
       "    </tr>\n",
       "  </tbody>\n",
       "</table>\n",
       "</div>"
      ],
      "text/plain": [
       "       CustomerID         Age  Annual Income (k$)  Spending Score (1-100)\n",
       "count  200.000000  200.000000          200.000000              200.000000\n",
       "mean   100.500000   38.850000           60.560000               50.200000\n",
       "std     57.879185   13.969007           26.264721               25.823522\n",
       "min      1.000000   18.000000           15.000000                1.000000\n",
       "25%     50.750000   28.750000           41.500000               34.750000\n",
       "50%    100.500000   36.000000           61.500000               50.000000\n",
       "75%    150.250000   49.000000           78.000000               73.000000\n",
       "max    200.000000   70.000000          137.000000               99.000000"
      ]
     },
     "execution_count": 6,
     "metadata": {},
     "output_type": "execute_result"
    }
   ],
   "source": [
    "#  getting describe of dataset\n",
    "dataset.describe()"
   ]
  },
  {
   "cell_type": "code",
   "execution_count": 7,
   "metadata": {},
   "outputs": [
    {
     "data": {
      "text/html": [
       "<div>\n",
       "<style scoped>\n",
       "    .dataframe tbody tr th:only-of-type {\n",
       "        vertical-align: middle;\n",
       "    }\n",
       "\n",
       "    .dataframe tbody tr th {\n",
       "        vertical-align: top;\n",
       "    }\n",
       "\n",
       "    .dataframe thead th {\n",
       "        text-align: right;\n",
       "    }\n",
       "</style>\n",
       "<table border=\"1\" class=\"dataframe\">\n",
       "  <thead>\n",
       "    <tr style=\"text-align: right;\">\n",
       "      <th></th>\n",
       "      <th>Annual Income (k$)</th>\n",
       "      <th>Spending Score (1-100)</th>\n",
       "    </tr>\n",
       "  </thead>\n",
       "  <tbody>\n",
       "    <tr>\n",
       "      <th>0</th>\n",
       "      <td>15</td>\n",
       "      <td>39</td>\n",
       "    </tr>\n",
       "    <tr>\n",
       "      <th>1</th>\n",
       "      <td>15</td>\n",
       "      <td>81</td>\n",
       "    </tr>\n",
       "    <tr>\n",
       "      <th>2</th>\n",
       "      <td>16</td>\n",
       "      <td>6</td>\n",
       "    </tr>\n",
       "    <tr>\n",
       "      <th>3</th>\n",
       "      <td>16</td>\n",
       "      <td>77</td>\n",
       "    </tr>\n",
       "    <tr>\n",
       "      <th>4</th>\n",
       "      <td>17</td>\n",
       "      <td>40</td>\n",
       "    </tr>\n",
       "    <tr>\n",
       "      <th>...</th>\n",
       "      <td>...</td>\n",
       "      <td>...</td>\n",
       "    </tr>\n",
       "    <tr>\n",
       "      <th>195</th>\n",
       "      <td>120</td>\n",
       "      <td>79</td>\n",
       "    </tr>\n",
       "    <tr>\n",
       "      <th>196</th>\n",
       "      <td>126</td>\n",
       "      <td>28</td>\n",
       "    </tr>\n",
       "    <tr>\n",
       "      <th>197</th>\n",
       "      <td>126</td>\n",
       "      <td>74</td>\n",
       "    </tr>\n",
       "    <tr>\n",
       "      <th>198</th>\n",
       "      <td>137</td>\n",
       "      <td>18</td>\n",
       "    </tr>\n",
       "    <tr>\n",
       "      <th>199</th>\n",
       "      <td>137</td>\n",
       "      <td>83</td>\n",
       "    </tr>\n",
       "  </tbody>\n",
       "</table>\n",
       "<p>200 rows × 2 columns</p>\n",
       "</div>"
      ],
      "text/plain": [
       "     Annual Income (k$)  Spending Score (1-100)\n",
       "0                    15                      39\n",
       "1                    15                      81\n",
       "2                    16                       6\n",
       "3                    16                      77\n",
       "4                    17                      40\n",
       "..                  ...                     ...\n",
       "195                 120                      79\n",
       "196                 126                      28\n",
       "197                 126                      74\n",
       "198                 137                      18\n",
       "199                 137                      83\n",
       "\n",
       "[200 rows x 2 columns]"
      ]
     },
     "execution_count": 7,
     "metadata": {},
     "output_type": "execute_result"
    }
   ],
   "source": [
    "#  Assigning features of dataset\n",
    "X = dataset.iloc[:, 3:]\n",
    "X"
   ]
  },
  {
   "cell_type": "code",
   "execution_count": 8,
   "metadata": {},
   "outputs": [
    {
     "data": {
      "image/png": "[encoded data removed]",
      "text/plain": [
       "<Figure size 432x288 with 1 Axes>"
      ]
     },
     "metadata": {
      "needs_background": "light"
     },
     "output_type": "display_data"
    }
   ],
   "source": [
    "#  Plotting the Elbow of dataset\n",
    "from sklearn.cluster import KMeans\n",
    "\n",
    "wcss=[]                                                           #  Creating a Empty list\n",
    "for i in range (1,11):\n",
    "    # making object of kmeans and fitting to dataset\n",
    "    kmeans=KMeans(n_clusters=i,init='k-means++',random_state=42)\n",
    "    kmeans.fit(X)\n",
    "    # Appending the inertia to WCSS List\n",
    "    wcss.append(kmeans.inertia_)\n",
    "\n",
    "#  Using matplotlib to plot the Elbow diagram\n",
    "plt.plot(range(1,11), wcss)\n",
    "plt.title('The Elbow Method')\n",
    "plt.xlabel('Number of clusters')\n",
    "plt.ylabel('WCSS')\n",
    "plt.show()"
   ]
  },
  {
   "cell_type": "code",
   "execution_count": 9,
   "metadata": {},
   "outputs": [
    {
     "name": "stdout",
     "output_type": "stream",
     "text": [
      "[3 0 3 0 3 0 3 0 3 0 3 0 3 0 3 0 3 0 3 0 3 0 3 0 3 0 3 0 3 0 3 0 3 0 3 0 3\n",
      " 0 3 0 3 0 3 1 3 0 1 1 1 1 1 1 1 1 1 1 1 1 1 1 1 1 1 1 1 1 1 1 1 1 1 1 1 1\n",
      " 1 1 1 1 1 1 1 1 1 1 1 1 1 1 1 1 1 1 1 1 1 1 1 1 1 1 1 1 1 1 1 1 1 1 1 1 1\n",
      " 1 1 1 1 1 1 1 1 1 1 1 1 2 4 2 1 2 4 2 4 2 1 2 4 2 4 2 4 2 4 2 1 2 4 2 4 2\n",
      " 4 2 4 2 4 2 4 2 4 2 4 2 4 2 4 2 4 2 4 2 4 2 4 2 4 2 4 2 4 2 4 2 4 2 4 2 4\n",
      " 2 4 2 4 2 4 2 4 2 4 2 4 2 4 2]\n"
     ]
    }
   ],
   "source": [
    "# Fitting K-Means to the dataset again with appropriate parameters\n",
    "kmeans = KMeans(n_clusters = 5, init = 'k-means++', random_state = 42)\n",
    "y_kmeans = kmeans.fit_predict(X)\n",
    "\n",
    "print(y_kmeans)"
   ]
  },
  {
   "cell_type": "code",
   "execution_count": 28,
   "metadata": {},
   "outputs": [
    {
     "data": {
      "text/plain": [
       "array([3], dtype=int32)"
      ]
     },
     "execution_count": 28,
     "metadata": {},
     "output_type": "execute_result"
    }
   ],
   "source": [
    "#  Getting prediction from above model \n",
    "#  This way, we predicts the cluster number to which the datapoint belongs to\n",
    "\n",
    "test = kmeans.predict(np.asarray([[3,3]]))\n",
    "test"
   ]
  },
  {
   "cell_type": "code",
   "execution_count": 7,
   "metadata": {},
   "outputs": [],
   "source": [
    "# Saving the model to the local file system\n",
    "import pickle\n",
    "filename = 'finalized_model.pickle'\n",
    "pickle.dump(kmeans, open(filename, 'wb'))"
   ]
  },
  {
   "cell_type": "code",
   "execution_count": 8,
   "metadata": {},
   "outputs": [
    {
     "data": {
      "text/html": [
       "<div>\n",
       "<style scoped>\n",
       "    .dataframe tbody tr th:only-of-type {\n",
       "        vertical-align: middle;\n",
       "    }\n",
       "\n",
       "    .dataframe tbody tr th {\n",
       "        vertical-align: top;\n",
       "    }\n",
       "\n",
       "    .dataframe thead th {\n",
       "        text-align: right;\n",
       "    }\n",
       "</style>\n",
       "<table border=\"1\" class=\"dataframe\">\n",
       "  <thead>\n",
       "    <tr style=\"text-align: right;\">\n",
       "      <th></th>\n",
       "      <th>Annual Income (k$)</th>\n",
       "      <th>Spending Score (1-100)</th>\n",
       "    </tr>\n",
       "  </thead>\n",
       "  <tbody>\n",
       "    <tr>\n",
       "      <th>1</th>\n",
       "      <td>15</td>\n",
       "      <td>81</td>\n",
       "    </tr>\n",
       "    <tr>\n",
       "      <th>3</th>\n",
       "      <td>16</td>\n",
       "      <td>77</td>\n",
       "    </tr>\n",
       "    <tr>\n",
       "      <th>5</th>\n",
       "      <td>17</td>\n",
       "      <td>76</td>\n",
       "    </tr>\n",
       "    <tr>\n",
       "      <th>7</th>\n",
       "      <td>18</td>\n",
       "      <td>94</td>\n",
       "    </tr>\n",
       "    <tr>\n",
       "      <th>9</th>\n",
       "      <td>19</td>\n",
       "      <td>72</td>\n",
       "    </tr>\n",
       "    <tr>\n",
       "      <th>11</th>\n",
       "      <td>19</td>\n",
       "      <td>99</td>\n",
       "    </tr>\n",
       "    <tr>\n",
       "      <th>13</th>\n",
       "      <td>20</td>\n",
       "      <td>77</td>\n",
       "    </tr>\n",
       "    <tr>\n",
       "      <th>15</th>\n",
       "      <td>20</td>\n",
       "      <td>79</td>\n",
       "    </tr>\n",
       "    <tr>\n",
       "      <th>17</th>\n",
       "      <td>21</td>\n",
       "      <td>66</td>\n",
       "    </tr>\n",
       "    <tr>\n",
       "      <th>19</th>\n",
       "      <td>23</td>\n",
       "      <td>98</td>\n",
       "    </tr>\n",
       "    <tr>\n",
       "      <th>21</th>\n",
       "      <td>24</td>\n",
       "      <td>73</td>\n",
       "    </tr>\n",
       "    <tr>\n",
       "      <th>23</th>\n",
       "      <td>25</td>\n",
       "      <td>73</td>\n",
       "    </tr>\n",
       "    <tr>\n",
       "      <th>25</th>\n",
       "      <td>28</td>\n",
       "      <td>82</td>\n",
       "    </tr>\n",
       "    <tr>\n",
       "      <th>27</th>\n",
       "      <td>28</td>\n",
       "      <td>61</td>\n",
       "    </tr>\n",
       "    <tr>\n",
       "      <th>29</th>\n",
       "      <td>29</td>\n",
       "      <td>87</td>\n",
       "    </tr>\n",
       "    <tr>\n",
       "      <th>31</th>\n",
       "      <td>30</td>\n",
       "      <td>73</td>\n",
       "    </tr>\n",
       "    <tr>\n",
       "      <th>33</th>\n",
       "      <td>33</td>\n",
       "      <td>92</td>\n",
       "    </tr>\n",
       "    <tr>\n",
       "      <th>35</th>\n",
       "      <td>33</td>\n",
       "      <td>81</td>\n",
       "    </tr>\n",
       "    <tr>\n",
       "      <th>37</th>\n",
       "      <td>34</td>\n",
       "      <td>73</td>\n",
       "    </tr>\n",
       "    <tr>\n",
       "      <th>39</th>\n",
       "      <td>37</td>\n",
       "      <td>75</td>\n",
       "    </tr>\n",
       "    <tr>\n",
       "      <th>41</th>\n",
       "      <td>38</td>\n",
       "      <td>92</td>\n",
       "    </tr>\n",
       "    <tr>\n",
       "      <th>45</th>\n",
       "      <td>39</td>\n",
       "      <td>65</td>\n",
       "    </tr>\n",
       "  </tbody>\n",
       "</table>\n",
       "</div>"
      ],
      "text/plain": [
       "    Annual Income (k$)  Spending Score (1-100)\n",
       "1                   15                      81\n",
       "3                   16                      77\n",
       "5                   17                      76\n",
       "7                   18                      94\n",
       "9                   19                      72\n",
       "11                  19                      99\n",
       "13                  20                      77\n",
       "15                  20                      79\n",
       "17                  21                      66\n",
       "19                  23                      98\n",
       "21                  24                      73\n",
       "23                  25                      73\n",
       "25                  28                      82\n",
       "27                  28                      61\n",
       "29                  29                      87\n",
       "31                  30                      73\n",
       "33                  33                      92\n",
       "35                  33                      81\n",
       "37                  34                      73\n",
       "39                  37                      75\n",
       "41                  38                      92\n",
       "45                  39                      65"
      ]
     },
     "execution_count": 8,
     "metadata": {},
     "output_type": "execute_result"
    }
   ],
   "source": [
    "# Looking at the points which belong to Cluster0\n",
    "X[y_kmeans==0]"
   ]
  },
  {
   "cell_type": "code",
   "execution_count": 8,
   "metadata": {
    "scrolled": true
   },
   "outputs": [
    {
     "data": {
      "image/png": "[encoded data removed]",
      "text/plain": [
       "<Figure size 432x288 with 1 Axes>"
      ]
     },
     "metadata": {
      "needs_background": "light"
     },
     "output_type": "display_data"
    }
   ],
   "source": [
    "# Visualising the clusters\n",
    "plt.scatter(X[y_kmeans == 0]['Annual Income (k$)'], X[y_kmeans == 0]['Spending Score (1-100)'], s = 100, c = 'red', label = 'Cluster 1')\n",
    "plt.scatter(X[y_kmeans == 1]['Annual Income (k$)'], X[y_kmeans == 1]['Spending Score (1-100)'], s = 100, c = 'blue', label = 'Cluster 2')\n",
    "plt.scatter(X[y_kmeans == 2]['Annual Income (k$)'], X[y_kmeans == 2]['Spending Score (1-100)'], s = 100, c = 'green', label = 'Cluster 3')\n",
    "plt.scatter(X[y_kmeans == 3]['Annual Income (k$)'], X[y_kmeans == 3]['Spending Score (1-100)'], s = 100, c = 'cyan', label = 'Cluster 4')\n",
    "plt.scatter(X[y_kmeans == 4]['Annual Income (k$)'], X[y_kmeans == 4]['Spending Score (1-100)'], s = 100, c = 'magenta', label = 'Cluster 5')\n",
    "\n",
    "plt.scatter(kmeans.cluster_centers_[:, 0], kmeans.cluster_centers_[:, 1], s = 300, c = 'yellow', label = 'Centroids')\n",
    "plt.title('Clusters of customers')\n",
    "plt.xlabel('Annual Income (k$)')\n",
    "plt.ylabel('Spending Score (1-100)')\n",
    "plt.legend()\n",
    "plt.show()"
   ]
  },
  {
   "cell_type": "code",
   "execution_count": null,
   "metadata": {},
   "outputs": [],
   "source": [
    "        ###############    ##############   Challenges and improvements in K-Means   ##############    ###############\n",
    "\n",
    " =>  We need to specify the number of clusters beforehand.\n",
    "\n",
    " =>  It is required to run the algorithm multiple times to avoid a sub-optimal solution\n",
    " \n",
    " =>  K-Means does not behave very well when the clusters have varying sizes, different densities, or non-spherical\n",
    "       shapes.\n",
    "\n",
    " =>  The clusters sometimes vary based on the initial choice of the centroids.\n",
    "       \n",
    " =>  An important improvement to the K-Means algorithm, called **K-Means++**, was proposed in a 2006 paper \n",
    "       by David Arthur and Sergei Vassilvitskii. They introduced a smarter initialization step that tends to \n",
    "      select centroids that are distant from one another, and this makes the K-Means algorithm much less likely \n",
    "         to converge to a suboptimal solution.\n",
    "\n",
    " =>  Another important improvement to the K-Means algorithm was proposed in a 2003 paper by Charles Elkan.\n",
    "      It considerably accelerates the algorithm by avoiding many unnecessary distance calculations.\n",
    "     This is achieved by exploiting the _triangle inequality_ (i.e., the straight line is always the shortest;\n",
    "      in a triangle with sides a,b and c => **a+b>c**) and by keeping track of lower and upper bounds for \n",
    "         distances between instances and centroids. \n",
    "\n",
    " =>  Yet another important variant of the K-Means algorithm was proposed in a 2010 paper by David Sculley. \n",
    "      Instead of using the full dataset at each iteration, the algorithm is capable of using **mini-batches**, \n",
    "       moving the centroids just slightly at each iteration. \n",
    "        \n",
    "     This speeds up the algorithm typically by a factor of 3 or 4 and makes it possible to cluster huge datasets that do not\n",
    "       fit in memory. \n",
    "     Scikit-Learn implements this algorithm in the **MiniBatchKMeans** class.\n",
    "       You can just use this class like the KMeans class.\n"
   ]
  },
  {
   "cell_type": "markdown",
   "metadata": {},
   "source": [
    "## <center> Minibatch_KMeans algorithm </center>"
   ]
  },
  {
   "cell_type": "code",
   "execution_count": null,
   "metadata": {},
   "outputs": [],
   "source": [
    " =>  MiniBatch_KMeans algorithm is much faster than Simple K_Means algorithm.\n",
    "\n",
    "#  Importing Mnibatch_Kmeans version from sklearn\n",
    "from sklearn.cluster import MiniBatchKMeans\n",
    "\n",
    "# Fitting MiniBatch Kmeans to dataset\n",
    "minibatch_kmeans = MiniBatchKMeans(n_clusters = 5)\n",
    "minibatch_kmeans.fit(X)"
   ]
  },
  {
   "cell_type": "markdown",
   "metadata": {},
   "source": [
    "#  <center> Hierarchical clustering </center>"
   ]
  },
  {
   "cell_type": "code",
   "execution_count": null,
   "metadata": {},
   "outputs": [],
   "source": [
    "      ###############   ##############   Introduction to Hierchical clustering   ###############    ##############\n",
    "\n",
    " =>  One main disadvantage of K-Means is that it needs us to pre-enter the number of clusters (K).\n",
    "\n",
    " =>  Hierarchical clustering is an alternative approach which does not need us to give the value of K beforehand \n",
    "      and also, it creates a beautiful tree-based structure for visualization.\n",
    "\n",
    " =>  Here, we are going to discuss the bottom-up (or Agglomerative) approach of cluster building.\n",
    "\n",
    " =>  We start by defining any sort of similarity between the datapoints. Generally, we consider the Euclidean\n",
    "       distance. \n",
    "    \n",
    " =>  The points which are closer to each are more similar than the points which are farther away to form clusters.\n"
   ]
  },
  {
   "cell_type": "code",
   "execution_count": null,
   "metadata": {},
   "outputs": [],
   "source": [
    "       ###############    #############   Steps for Hierchical clustering    ##############     ############### \n",
    "\n",
    " =>  Begin with n observations and a measure (such as Euclidean distance) of all the n(n−1)/2 pairwise \n",
    "       dissimilarities(or the Euclidean distances generally). Treat each observation as its own cluster. \n",
    "        Initially, we have n clusters.\n",
    "\n",
    " =>  Compare all the distances and put the two closest points/clusters in the same cluster. \n",
    "     The dissimilarity (or the Euclidean distances) between these two clusters indicates the height in the\n",
    "      dendrogram at which the fusion line should be placed.\n",
    "\n",
    " =>  Compute the new pairwise inter-luster dissimilarities (or Euclidean distances) among the remaining clusters.\n",
    "\n",
    " =>  Repeat steps 2 and 3 till we have only one cluster left."
   ]
  },
  {
   "cell_type": "code",
   "execution_count": null,
   "metadata": {},
   "outputs": [],
   "source": [
    "    ##############   ###############   Steps in Hierchical Clustering    ###############   ##############\n",
    "    \n",
    " =>  K_means is a Top down approach, But Hierchical Clustering is a Bottom Up approach, where we dont require to\n",
    "       give this value of 'k'.\n",
    "    \n",
    " =>  Consider an example with List of names of some cities in India.\n",
    "\n",
    "       Delhi, Noida, Varanasi, Kolkata, Hyderabad, pune, Mumbai, chennai, Bangalore, Patna etc.\n",
    "    \n",
    " =>  We try to plot these all cities on a Horizontal line in any order and then we matches two near-by cities\n",
    "        or cities having less distance between them.\n",
    "      Here, Matching of cities are performed on the basis of Euclidean distances b/w them.\n",
    "    \n",
    " =>  In 1st time, we matches all Near-by cities in a pair, which is known as 1st level of matching.\n",
    "\n",
    " =>  Then we match all Near-by pairs with one another, and this is known as 2nd level of matching.\n",
    "       We try to repeat these Near-by Pairs matching level-by-level until we get a single pair.\n",
    "        \n",
    " =>  Then we draw some horizontal lines to intersect these matchings at each level of matchings. \n",
    "       These Lines are known as Fusion lines and intersections of Fusion Lines gives the number of clusters \n",
    "         at each level.\n",
    "        \n",
    " =>  We suppose to pick the Top-most fusion Line which gives the final number of clusters.\n",
    "\n",
    " =>  This above approach is known as Dendogram."
   ]
  },
  {
   "cell_type": "markdown",
   "metadata": {},
   "source": [
    "> <center> <b> Dendograms </center> </b>\n",
    "<img src='images/dendo.png' width = 400px>\n",
    "<img src='images/dendo1.png' width = 400px>"
   ]
  },
  {
   "cell_type": "code",
   "execution_count": null,
   "metadata": {},
   "outputs": [],
   "source": [
    "              ############     #############   linkage methods   ##############    #############\n",
    "    \n",
    " =>  Initially, Hierarchical clustering starts out with clusters consisting of individual points. \n",
    "       Later, it compares clusters with each other and merges the two \"closest\" clusters.\n",
    "      Since clusters are sets of points, there are many different kinds of linkage methods:\n",
    " \n",
    " =>  There are various types of Linkage methods available for the Hierchical clustering.\n",
    "    \n",
    "       * Single Linkage: cluster distance = smallest pairwise distance\n",
    "            \n",
    "       * Complete Linkage: cluster distance = largest pairwise distance\n",
    "\n",
    "       * Average Linkage: cluster distance = average pairwise distance\n",
    "\n",
    "       * Centroid Linkage: cluster distance =  distance between the centroids of the clusters\n",
    "\n",
    "       * Ward’s Linkage: cluster criteria = Minimize the variance in the cluster\n"
   ]
  },
  {
   "cell_type": "code",
   "execution_count": null,
   "metadata": {},
   "outputs": [],
   "source": [
    "     ##############    #############   Single linkage Method   #############    #############\n",
    "\n",
    "   *  Single Linkage  ->   Minimal intercluster dissimilarity. \n",
    "\n",
    " => This compute all pairwise dissimilarities between the observations in cluster A and the observations in \n",
    "     cluster B, and record the smallest of these dissimilarities. Single linkage can result in extended, \n",
    "        trailing clusters in which single observations are fused one-at-a-time.\n",
    "\n",
    "       * cluster distance is the smallest distance between any point in cluster 1 and any point in cluster 2\n",
    "\n",
    "       * highly sensitive to outliers when forming flat clusters\n",
    "\n",
    "       * works well for low-noise data with an unusual structure"
   ]
  },
  {
   "cell_type": "code",
   "execution_count": null,
   "metadata": {},
   "outputs": [],
   "source": [
    "     ##############    #############   Complete linkage Method   #############    #############\n",
    "\n",
    "    *  Complete Linkage ->  Maximal intercluster dissimilarity. \n",
    "\n",
    " =>  This compute all pairwise dissimilarities between the observations in cluster A and the observations in \n",
    "       cluster B, and record the largest of these dissimilarities.\n",
    "\n",
    "         * cluster distance is the largest distance between any point in cluster 1 and any point in cluster 2\n",
    "      \n",
    "         * less sensitive to outliers than single linkage\n"
   ]
  },
  {
   "cell_type": "code",
   "execution_count": null,
   "metadata": {},
   "outputs": [],
   "source": [
    "        ##############    #############   Average linkage Method   #############    #############    \n",
    "\n",
    "   * Average Linkage  ->  Mean intercluster dissimilarity\n",
    "\n",
    " =>  This compute all pairwise dissimilarities between the observations in cluster A and the observations in \n",
    "       cluster B, and record the average of these dissimilarities.\n",
    "\n",
    "       * cluster distance is the average distance of all pairs of points in clusters 1 and 2."
   ]
  },
  {
   "cell_type": "code",
   "execution_count": null,
   "metadata": {},
   "outputs": [],
   "source": [
    "         ##############    #############   Centroid linkage Method   #############    #############\n",
    "\n",
    " * Centroid Linkage  ->  The dissimilarity between the centroid for cluster A (a mean vector of length p) and\n",
    "                            the centroid for cluster B. Centroid linkage can result in undesirable inversions.\n",
    "                           cluster distance is the distance of the centroids of both clusters"
   ]
  },
  {
   "cell_type": "code",
   "execution_count": null,
   "metadata": {},
   "outputs": [],
   "source": [
    "        ##############    #############   Ward linkage Method   #############    #############\n",
    "\n",
    " * Ward linkage  ->  Wikipidea says _Wards minimum variance criterion minimizes the total within-cluster variance. \n",
    "\n",
    " => To implement this method, at each step find the pair of clusters that leads to minimum increase in total\n",
    "        within-cluster variance after merging.\n",
    "        based on minimizing a variance criterion before and after merging"
   ]
  },
  {
   "cell_type": "markdown",
   "metadata": {},
   "source": [
    "\n",
    "##  <center> Python Implementation for Hierchical Clustering </center>"
   ]
  },
  {
   "cell_type": "code",
   "execution_count": null,
   "metadata": {},
   "outputs": [],
   "source": [
    " =>  Load the dataset and plot it to observe it.\n",
    "    \n",
    " =>  Then compute the distance between each pair of the two collections of inputs or distance b/w all the points.\n",
    "\n",
    "       >>> from scipy.spatial.distance import cdist\n",
    "       >>> cdist(data,data)\n",
    "\n",
    " =>  cdist() method gives the euclidean distances b/w each and every data points.\n",
    "\n",
    " =>  Then we try to import the linkage method and specify the type of linkage for formation of Dendograms.\n",
    "    \n",
    "      >>> from scipy.cluster.hierarchy import *\n",
    "      >>> lm = linkage(cdist, \"linkage_type\")\n",
    "      \n",
    "        \n",
    " =>  Then Plot the Dendogram with specified Linkage method  ->   >>> _ = dendrogram(lm)\n",
    "\n",
    " =>  Then we draw the Fusion Lines to cut these Dendograms and the Intersection of top-most Dendogram gives\n",
    "       the final number of clusters.\n",
    "        \n",
    " =>  Plotting the individual clusters  ->   >>> plotclusters(data, fcluster(lm, 2, criterion='maxclust'))\n",
    "\n",
    " "
   ]
  },
  {
   "cell_type": "code",
   "execution_count": null,
   "metadata": {},
   "outputs": [],
   "source": [
    "        ##############    ##############   Criterions for fcluster()   ##############    ###############\n",
    "    \n",
    "=>  fcluster uses different criterions  to plot the clusters.\n",
    "    \n",
    "     * {'inconsistent'}  ->  If a cluster node and all its\n",
    "          descendants have an inconsistent value less than or equal\n",
    "          to `t`, then all its leaf descendants belong to the\n",
    "          same flat cluster. When no non-singleton cluster meets\n",
    "          this criterion, every node is assigned to its own\n",
    "          cluster. (Default)\n",
    "            \n",
    "     * {'distance'}  ->  Forms flat clusters so that the original\n",
    "          observations in each flat cluster have no greater a\n",
    "          cophenetic distance than `t`.\n",
    "            \n",
    "     * {'maxclust'}  ->  Finds a minimum threshold ``r`` so that\n",
    "          the cophenetic distance between any two original\n",
    "          observations in the same flat cluster is no more than\n",
    "          ``r`` and no more than `t` flat clusters are formed.\n",
    "\n",
    "        \n",
    "     * {'monocrit'}  ->  Forms a flat cluster from a cluster node c\n",
    "          with index i when ``monocrit[j] <= t``.\n",
    "\n",
    "     * {'maxclust_monocrit'}  ->  Forms a flat cluster from a\n",
    "          non-singleton cluster node ``c`` when ``monocrit[i] <=\n",
    "          r`` for all cluster indices ``i`` below and including\n",
    "          ``c``. ``r`` is minimized such that no more than ``t``\n",
    "          flat clusters are formed. monocrit must be\n",
    "          monotonic."
   ]
  },
  {
   "cell_type": "code",
   "execution_count": 43,
   "metadata": {},
   "outputs": [
    {
     "data": {
      "image/png": "[encoded data removed]",
      "text/plain": [
       "<Figure size 432x432 with 1 Axes>"
      ]
     },
     "metadata": {
      "needs_background": "light"
     },
     "output_type": "display_data"
    }
   ],
   "source": [
    "# Taking a data for example\n",
    "data = r_[dot(randn(100,2),diag([4,10]))+array([60,60]),\n",
    "           dot(randn(100,2),diag([4,10]))+array([40,40])]\n",
    "shuffle(data)\n",
    "\n",
    "#  Plotting the clusters\n",
    "plotclusters(data)"
   ]
  },
  {
   "cell_type": "code",
   "execution_count": 76,
   "metadata": {},
   "outputs": [
    {
     "data": {
      "image/png": "[encoded data removed]",
      "text/plain": [
       "<Figure size 432x432 with 1 Axes>"
      ]
     },
     "metadata": {
      "needs_background": "light"
     },
     "output_type": "display_data"
    }
   ],
   "source": [
    "# Compute distance between each pair of the two collections of inputs,i.e.,distance between all the points in data\n",
    "\n",
    "from scipy.spatial.distance import cdist\n",
    "ds = cdist(data,data)[0:10]\n",
    "\n",
    "# Defining the Linkage methods\n",
    "from scipy.cluster.hierarchy import *\n",
    "lm = linkage(ds,\"single\")\n",
    "\n",
    "# Plotting the Dendogram\n",
    "_ = dendrogram(lm)"
   ]
  },
  {
   "cell_type": "code",
   "execution_count": 78,
   "metadata": {},
   "outputs": [
    {
     "ename": "IndexError",
     "evalue": "boolean index did not match indexed array along dimension 0; dimension is 200 but corresponding boolean dimension is 9",
     "output_type": "error",
     "traceback": [
      "\u001b[0;31m---------------------------------------------------------------------------\u001b[0m",
      "\u001b[0;31mIndexError\u001b[0m                                Traceback (most recent call last)",
      "\u001b[0;32m<ipython-input-78-2fb9b834ffbc>\u001b[0m in \u001b[0;36m<module>\u001b[0;34m\u001b[0m\n\u001b[1;32m      1\u001b[0m \u001b[0;31m## Plotting the individual clusters\u001b[0m\u001b[0;34m\u001b[0m\u001b[0;34m\u001b[0m\u001b[0;34m\u001b[0m\u001b[0m\n\u001b[1;32m      2\u001b[0m \u001b[0;34m\u001b[0m\u001b[0m\n\u001b[0;32m----> 3\u001b[0;31m \u001b[0mplotclusters\u001b[0m\u001b[0;34m(\u001b[0m\u001b[0mdata\u001b[0m\u001b[0;34m,\u001b[0m \u001b[0mfclusterdata\u001b[0m\u001b[0;34m(\u001b[0m\u001b[0mlm\u001b[0m\u001b[0;34m,\u001b[0m\u001b[0;36m3\u001b[0m\u001b[0;34m,\u001b[0m\u001b[0mmetric\u001b[0m\u001b[0;34m=\u001b[0m\u001b[0;34m'euclidean'\u001b[0m\u001b[0;34m,\u001b[0m\u001b[0mmethod\u001b[0m\u001b[0;34m=\u001b[0m\u001b[0;34m'single'\u001b[0m\u001b[0;34m,\u001b[0m\u001b[0mcriterion\u001b[0m\u001b[0;34m=\u001b[0m\u001b[0;34m'maxclust'\u001b[0m\u001b[0;34m)\u001b[0m\u001b[0;34m)\u001b[0m\u001b[0;34m\u001b[0m\u001b[0;34m\u001b[0m\u001b[0m\n\u001b[0m",
      "\u001b[0;32m<ipython-input-32-77bda6931650>\u001b[0m in \u001b[0;36mplotclusters\u001b[0;34m(data, centers)\u001b[0m\n\u001b[1;32m     21\u001b[0m     \u001b[0;32melse\u001b[0m\u001b[0;34m:\u001b[0m\u001b[0;34m\u001b[0m\u001b[0;34m\u001b[0m\u001b[0m\n\u001b[1;32m     22\u001b[0m         \u001b[0;32mfor\u001b[0m \u001b[0mi\u001b[0m \u001b[0;32min\u001b[0m \u001b[0mrange\u001b[0m\u001b[0;34m(\u001b[0m\u001b[0mamax\u001b[0m\u001b[0;34m(\u001b[0m\u001b[0mcenters\u001b[0m\u001b[0;34m)\u001b[0m\u001b[0;34m+\u001b[0m\u001b[0;36m1\u001b[0m\u001b[0;34m)\u001b[0m\u001b[0;34m:\u001b[0m\u001b[0;34m\u001b[0m\u001b[0;34m\u001b[0m\u001b[0m\n\u001b[0;32m---> 23\u001b[0;31m             \u001b[0mplot\u001b[0m\u001b[0;34m(\u001b[0m\u001b[0mdata\u001b[0m\u001b[0;34m[\u001b[0m\u001b[0mcenters\u001b[0m\u001b[0;34m==\u001b[0m\u001b[0mi\u001b[0m\u001b[0;34m,\u001b[0m\u001b[0;36m0\u001b[0m\u001b[0;34m]\u001b[0m\u001b[0;34m,\u001b[0m\u001b[0mdata\u001b[0m\u001b[0;34m[\u001b[0m\u001b[0mcenters\u001b[0m\u001b[0;34m==\u001b[0m\u001b[0mi\u001b[0m\u001b[0;34m,\u001b[0m\u001b[0;36m1\u001b[0m\u001b[0;34m]\u001b[0m\u001b[0;34m,\u001b[0m\u001b[0mccolors\u001b[0m\u001b[0;34m[\u001b[0m\u001b[0mi\u001b[0m\u001b[0;34m%\u001b[0m\u001b[0mlen\u001b[0m\u001b[0;34m(\u001b[0m\u001b[0mccolors\u001b[0m\u001b[0;34m)\u001b[0m\u001b[0;34m]\u001b[0m\u001b[0;34m,\u001b[0m\u001b[0mmarkersize\u001b[0m\u001b[0;34m=\u001b[0m\u001b[0;36m5\u001b[0m\u001b[0;34m)\u001b[0m\u001b[0;34m\u001b[0m\u001b[0;34m\u001b[0m\u001b[0m\n\u001b[0m\u001b[1;32m     24\u001b[0m \u001b[0;34m\u001b[0m\u001b[0m\n\u001b[1;32m     25\u001b[0m \u001b[0;34m\u001b[0m\u001b[0m\n",
      "\u001b[0;31mIndexError\u001b[0m: boolean index did not match indexed array along dimension 0; dimension is 200 but corresponding boolean dimension is 9"
     ]
    },
    {
     "data": {
      "image/png": "[encoded data removed]",
      "text/plain": [
       "<Figure size 432x432 with 1 Axes>"
      ]
     },
     "metadata": {
      "needs_background": "light"
     },
     "output_type": "display_data"
    }
   ],
   "source": [
    "## Plotting the individual clusters\n",
    "\n",
    "plotclusters(data, fclusterdata(lm,3,metric='euclidean',method='single',criterion='maxclust'))"
   ]
  },
  {
   "cell_type": "markdown",
   "metadata": {},
   "source": [
    "##  Dendogram using various linkage methods"
   ]
  },
  {
   "cell_type": "code",
   "execution_count": 41,
   "metadata": {},
   "outputs": [],
   "source": [
    "# Taking a data for example\n",
    "data = r_[dot(randn(100,2),diag([4,10]))+array([60,60]),\n",
    "           dot(randn(100,2),diag([4,10]))+array([40,40])]\n",
    "shuffle(data)"
   ]
  },
  {
   "cell_type": "code",
   "execution_count": 29,
   "metadata": {},
   "outputs": [
    {
     "data": {
      "image/png": "[encoded data removed]",
      "text/plain": [
       "<Figure size 432x432 with 1 Axes>"
      ]
     },
     "metadata": {
      "needs_background": "light"
     },
     "output_type": "display_data"
    }
   ],
   "source": [
    "# single Linkage\n",
    "\n",
    "assignment = fclusterdata(data,2,metric='euclidean',method='single',criterion='maxclust')\n",
    "plotclusters(data,assignment)\n",
    "\n",
    "\n",
    "assignment = fclusterdata(data,4,metric='euclidean',method='single',criterion='maxclust')\n",
    "\n",
    "plotclusters(data,assignment)"
   ]
  },
  {
   "cell_type": "markdown",
   "metadata": {},
   "source": [
    "##  Complete linkage"
   ]
  },
  {
   "cell_type": "code",
   "execution_count": 31,
   "metadata": {},
   "outputs": [
    {
     "data": {
      "image/png": "[encoded data removed]",
      "text/plain": [
       "<Figure size 432x432 with 1 Axes>"
      ]
     },
     "metadata": {
      "needs_background": "light"
     },
     "output_type": "display_data"
    }
   ],
   "source": [
    "assignment = fclusterdata(data,2,metric='euclidean',method='complete',criterion='maxclust')\n",
    "plotclusters(data,assignment)"
   ]
  },
  {
   "cell_type": "code",
   "execution_count": 32,
   "metadata": {},
   "outputs": [
    {
     "data": {
      "image/png": "[encoded data removed]",
      "text/plain": [
       "<Figure size 432x432 with 1 Axes>"
      ]
     },
     "metadata": {
      "needs_background": "light"
     },
     "output_type": "display_data"
    }
   ],
   "source": [
    "assignment = fclusterdata(data,4,metric='euclidean',method='complete',criterion='maxclust')\n",
    "plotclusters(data,assignment)"
   ]
  },
  {
   "cell_type": "markdown",
   "metadata": {},
   "source": [
    "## Average Linkage"
   ]
  },
  {
   "cell_type": "code",
   "execution_count": 33,
   "metadata": {},
   "outputs": [
    {
     "data": {
      "image/png": "[encoded data removed]",
      "text/plain": [
       "<Figure size 432x432 with 1 Axes>"
      ]
     },
     "metadata": {
      "needs_background": "light"
     },
     "output_type": "display_data"
    }
   ],
   "source": [
    "assignment = fclusterdata(data,2,metric='euclidean',method='average',criterion='maxclust')\n",
    "plotclusters(data,assignment)"
   ]
  },
  {
   "cell_type": "code",
   "execution_count": 34,
   "metadata": {},
   "outputs": [
    {
     "data": {
      "image/png": "[encoded data removed]",
      "text/plain": [
       "<Figure size 432x432 with 1 Axes>"
      ]
     },
     "metadata": {
      "needs_background": "light"
     },
     "output_type": "display_data"
    }
   ],
   "source": [
    "assignment = fclusterdata(data,4,metric='euclidean',method='average',criterion='maxclust')\n",
    "plotclusters(data,assignment)"
   ]
  },
  {
   "cell_type": "markdown",
   "metadata": {},
   "source": [
    "## Centroid Linkage"
   ]
  },
  {
   "cell_type": "code",
   "execution_count": 35,
   "metadata": {},
   "outputs": [
    {
     "data": {
      "image/png": "[encoded data removed]",
      "text/plain": [
       "<Figure size 432x432 with 1 Axes>"
      ]
     },
     "metadata": {
      "needs_background": "light"
     },
     "output_type": "display_data"
    }
   ],
   "source": [
    "lm = linkage(data,metric='euclidean',method='centroid')\n",
    "assignment = fcluster(lm,2,criterion='maxclust')\n",
    "plotclusters(data,assignment)"
   ]
  },
  {
   "cell_type": "code",
   "execution_count": 36,
   "metadata": {},
   "outputs": [
    {
     "data": {
      "image/png": "[encoded data removed]",
      "text/plain": [
       "<Figure size 432x432 with 1 Axes>"
      ]
     },
     "metadata": {
      "needs_background": "light"
     },
     "output_type": "display_data"
    }
   ],
   "source": [
    "lm = linkage(data,metric='euclidean',method='centroid')\n",
    "assignment = fcluster(lm,4,criterion='maxclust')\n",
    "plotclusters(data,assignment)"
   ]
  },
  {
   "cell_type": "markdown",
   "metadata": {},
   "source": [
    "## Ward Linkage"
   ]
  },
  {
   "cell_type": "code",
   "execution_count": 37,
   "metadata": {},
   "outputs": [
    {
     "data": {
      "image/png": "[encoded data removed]",
      "text/plain": [
       "<Figure size 432x432 with 1 Axes>"
      ]
     },
     "metadata": {
      "needs_background": "light"
     },
     "output_type": "display_data"
    }
   ],
   "source": [
    "lm = linkage(data,metric='euclidean',method='ward')\n",
    "assignment = fcluster(lm,2,criterion='maxclust')\n",
    "plotclusters(data,assignment)"
   ]
  },
  {
   "cell_type": "code",
   "execution_count": 38,
   "metadata": {},
   "outputs": [
    {
     "data": {
      "image/png": "[encoded data removed]",
      "text/plain": [
       "<Figure size 432x432 with 1 Axes>"
      ]
     },
     "metadata": {
      "needs_background": "light"
     },
     "output_type": "display_data"
    }
   ],
   "source": [
    "lm = linkage(data,metric='euclidean',method='ward')\n",
    "assignment = fcluster(lm,4,criterion='maxclust')\n",
    "plotclusters(data,assignment)"
   ]
  },
  {
   "cell_type": "markdown",
   "metadata": {},
   "source": [
    "#  DBSCAN (Density Based Spatial Clustering of Apllications with Noise)"
   ]
  },
  {
   "cell_type": "code",
   "execution_count": null,
   "metadata": {},
   "outputs": [],
   "source": [
    "       ################    ############  Introduction to Density Based Clustering   ############    ################\n",
    "    \n",
    " =>  DBSCAN is an unsupervised machine learning algorithm.\n",
    "\n",
    " =>  This algorithm defines clusters as continuous regions of high density.\n",
    "\n",
    "        #############   ###########   Some Terms Related to DBSCAN Algorithm    ###########   ################\n",
    "\n",
    " * Epsilon     ->    This is also called eps. This is the distance till which we look for the neighbouring points.\n",
    "\n",
    " * Min_points  ->    The minimum number of points specified by the user.\n",
    "\n",
    " * Core Points ->    If the number of points inside the _eps radius_ of a point is greater than or equal to the *min_points*,\n",
    "                         then it’s called a Core point.\n",
    "\n",
    " * Border Points ->  If the number of points inside the _eps radius_ of a point is less than the *min_points* and it lies\n",
    "                        within the _eps radius_ region of a core point, it’s called a Border point.\n",
    "\n",
    " *   Noise   ->      A point which is neither a core nor a border point is a noise point."
   ]
  },
  {
   "cell_type": "markdown",
   "metadata": {},
   "source": [
    "#### With the eps = 1 and min_points = 4, We have something like this.\n",
    "\n",
    "<img src=\"images/point_def.PNG\" width=\"520\">"
   ]
  },
  {
   "cell_type": "code",
   "execution_count": null,
   "metadata": {},
   "outputs": [],
   "source": [
    "         ################   #############   Steps for DBSCAN algorithm   ##############   #################\n",
    "  \n",
    "\n",
    "1.  The algorithm starts with a random point in the dataset which has not been visited yet and its neighbouring  \n",
    "       points are identified based on the eps value.\n",
    "\n",
    "2.  If the point contains greater than or equal points than the min_pts, then the cluster formation starts and \n",
    "     this point becomes a _core point_, else it’s considered as noise.\n",
    "     \n",
    "    The thing to note here is that a point initially classified as noise can later become a border point if it’s \n",
    "      in the eps radius of a core point.\n",
    "\n",
    "3.  If the point is a core point, then all its neighbours become a part of the cluster. \n",
    "      If the points in the neighbourhood turn out to be core points then their neighbours are also part of the \n",
    "       cluster.\n",
    "\n",
    "4.  Repeat the steps above until all points are  classified into different clusters or noises.\n",
    "\n",
    "\n",
    "\n",
    "** Note ** =>  This algorithm works well if all the clusters are dense enough, and they are well separated by \n",
    "                   low-density regions."
   ]
  },
  {
   "cell_type": "code",
   "execution_count": null,
   "metadata": {},
   "outputs": [],
   "source": [
    "        ###############    ##############   Conclusion for DBSCAN  Algorithm   ###############    ################\n",
    "\n",
    " =>  In short, DBSCAN is a very simple yet powerful algorithm, capable of identifying any number of clusters,\n",
    "       of any shape, it is robust to outliers, and it has just two hyper parameters(eps and min_samples).\n",
    "        \n",
    " =>  However, if the density varies significantly across the clusters, it can be impossible for it to capture all\n",
    "       the clusters properly.\n",
    "      Moreover, its computational complexity is roughly O(m log m), making it pretty close to linear with regards \n",
    "        to the number of instances."
   ]
  },
  {
   "cell_type": "markdown",
   "metadata": {},
   "source": [
    "## <center> Python Implementation for DBSCAN </center>"
   ]
  },
  {
   "cell_type": "code",
   "execution_count": 10,
   "metadata": {},
   "outputs": [],
   "source": [
    "#  Importing Required libraries\n",
    "import numpy as np\n",
    "from sklearn.cluster import DBSCAN\n",
    "from sklearn import metrics\n",
    "from sklearn.datasets import make_blobs\n",
    "from sklearn.preprocessing import StandardScaler"
   ]
  },
  {
   "cell_type": "code",
   "execution_count": 11,
   "metadata": {},
   "outputs": [],
   "source": [
    "# Data creation\n",
    "centers = [[1, 1], [-1, -1], [1, -1]]  \n",
    "\n",
    "X, labels_true = make_blobs(n_samples=750, centers=centers, cluster_std=0.4,\n",
    "                            random_state=0)  # generate sample blobs\n",
    "\n",
    "# Scaling the dataset and fitting\n",
    "X = StandardScaler().fit_transform(X)"
   ]
  },
  {
   "cell_type": "code",
   "execution_count": 12,
   "metadata": {},
   "outputs": [],
   "source": [
    "# Fitting DBSCAN with eps=0.3  and min_samples=10\n",
    "\n",
    "db = DBSCAN(eps=0.3, min_samples=10).fit(X)\n",
    "\n",
    "# we are calculating these for showcasing in diagram\n",
    "core_samples_mask = np.zeros_like(db.labels_, dtype=bool)  # creating an array of true and false as the same size as db.labels\n",
    "core_samples_mask[db.core_sample_indices_] = True          # setting the indices of the core regions to True\n",
    "labels = db.labels_                                        # similar to the model.fit() method, it gives the labels of the\n",
    "                                                           #  clustered data"
   ]
  },
  {
   "cell_type": "code",
   "execution_count": 13,
   "metadata": {},
   "outputs": [
    {
     "name": "stdout",
     "output_type": "stream",
     "text": [
      "Estimated number of clusters: 3\n",
      "Estimated number of noise points: 18\n",
      "Homogeneity: 0.953\n"
     ]
    }
   ],
   "source": [
    "# Number of clusters in labels, ignoring noise if present.\n",
    "n_clusters_ = len(set(labels)) - (1 if -1 in labels else 0)  # the label -1 is considered as noise by the DBSCAN algorithm\n",
    "n_noise_ = list(labels).count(-1)                            # calculating the number of clusters\n",
    "\n",
    "#  Printing noise, clusters and Homogeneity \n",
    "print('Estimated number of clusters: %d' % n_clusters_)\n",
    "print('Estimated number of noise points: %d' % n_noise_)\n",
    "print(\"Homogeneity: %0.3f\" % metrics.homogeneity_score(labels_true, labels))"
   ]
  },
  {
   "cell_type": "markdown",
   "metadata": {
    "scrolled": true
   },
   "source": [
    "## Homogeneity"
   ]
  },
  {
   "cell_type": "code",
   "execution_count": 14,
   "metadata": {
    "scrolled": false
   },
   "outputs": [
    {
     "data": {
      "image/png": "[encoded data removed]",
      "text/plain": [
       "<Figure size 432x288 with 1 Axes>"
      ]
     },
     "metadata": {
      "needs_background": "light"
     },
     "output_type": "display_data"
    }
   ],
   "source": [
    "# Plotting the Result\n",
    "import matplotlib.pyplot as plt\n",
    "\n",
    "# Black  is used for noise.\n",
    "unique_labels = set(labels)  # identifying all the unique labels/clusters\n",
    "colors = [plt.cm.Spectral(each)\n",
    "          for each in np.linspace(0, 1, len(unique_labels))]  # creating the list of colours, generating the colourmap\n",
    "\n",
    "\n",
    "\n",
    "for k, col in zip(unique_labels, colors):\n",
    "    \n",
    "    \n",
    "    if k == -1:\n",
    "        # Black used for noise.\n",
    "        col = [0, 0, 0, 1]\n",
    "\n",
    "    class_member_mask = (labels == k)   # assigning class members for each class\n",
    "    \n",
    "\n",
    "    xy = X[class_member_mask & core_samples_mask] # creating the list of points for each class\n",
    "    \n",
    "    plt.plot(xy[:, 0], xy[:, 1], 'o', markerfacecolor=tuple(col),\n",
    "             markeredgecolor='k', markersize=14)\n",
    "    \n",
    "\n",
    "    xy = X[class_member_mask & ~core_samples_mask] # creating the list of noise points\n",
    "    \n",
    "    plt.plot(xy[:, 0], xy[:, 1], 'o', markerfacecolor=tuple(col),\n",
    "             markeredgecolor='k', markersize=14)\n",
    "    \n",
    "    \n",
    "\n",
    "plt.title('Estimated number of clusters: %d' % n_clusters_)\n",
    "plt.show()"
   ]
  },
  {
   "cell_type": "markdown",
   "metadata": {},
   "source": [
    "## <center> Performance Metrics Clustering-Silhouetter Coefficient </center>"
   ]
  },
  {
   "cell_type": "raw",
   "metadata": {},
   "source": [
    "# Importing required libraries\n",
    "from sklearn.datasets import make_blobs\n",
    "from sklearn.cluster import KMeans\n",
    "from sklearn.metrics import silhouette_samples, silhouette_score\n",
    "\n",
    "import matplotlib.pyplot as plt\n",
    "import matplotlib.cm as cm\n",
    "import numpy as np\n",
    "\n",
    "------------\n",
    "\n",
    "# Generating the sample data from make_blobs\n",
    "# This particular setting has one distinct cluster and 3 clusters placed close\n",
    "# together.\n",
    "X, y = make_blobs(n_samples=500,\n",
    "                  n_features=2,\n",
    "                  centers=4,\n",
    "                  cluster_std=1,\n",
    "                  center_box=(-10.0, 10.0),\n",
    "                  shuffle=True,\n",
    "                  random_state=1)  # For reproducibility\n",
    "\n",
    "range_n_clusters = [2, 3, 4, 5, 6]\n",
    "\n",
    "-----------\n",
    "\n",
    "from sklearn.cluster import KMeans\n",
    "\n",
    "wcss=[]\n",
    "for i in range(1,11):\n",
    "    kmeans=KMeans(n_clusters=i, init='k-means++',random_state=0)\n",
    "    kmeans.fit(X)\n",
    "    wcss.append(kmeans.inertia_)\n",
    "\n",
    "plt.plot(range(1,11),wcss)\n",
    "plt.title('The Elbow Method')\n",
    "plt.xlabel('Number of Clusters')\n",
    "plt.ylabel('WCSS')\n",
    "plt.show()\n",
    "\n",
    "-------------\n",
    "\n",
    "clusterer = KMeans(n_clusters=4, random_state=10)\n",
    "cluster_labels = clusterer.fit_predict(X)\n",
    "print(cluster_labels)\n",
    "\n",
    "------------\n",
    "\n",
    "for n_clusters in range_n_clusters:\n",
    "    # Create a subplot with 1 row and 2 columns\n",
    "    fig, (ax1, ax2) = plt.subplots(1, 2)\n",
    "    fig.set_size_inches(18, 7)\n",
    "\n",
    "    # The 1st subplot is the silhouette plot\n",
    "    # The silhouette coefficient can range from -1, 1 but in this example all\n",
    "    # lie within [-0.1, 1]\n",
    "    ax1.set_xlim([-0.1, 1])\n",
    "    # The (n_clusters+1)*10 is for inserting blank space between silhouette\n",
    "    # plots of individual clusters, to demarcate them clearly.\n",
    "    ax1.set_ylim([0, len(X) + (n_clusters + 1) * 10])\n",
    "\n",
    "    # Initialize the clusterer with n_clusters value and a random generator\n",
    "    # seed of 10 for reproducibility.\n",
    "    clusterer = KMeans(n_clusters=n_clusters, random_state=10)\n",
    "    cluster_labels = clusterer.fit_predict(X)\n",
    "\n",
    "    # The silhouette_score gives the average value for all the samples.\n",
    "    # This gives a perspective into the density and separation of the formed\n",
    "    # clusters\n",
    "    silhouette_avg = silhouette_score(X, cluster_labels)\n",
    "    print(\"For n_clusters =\", n_clusters,\n",
    "          \"The average silhouette_score is :\", silhouette_avg)\n",
    "\n",
    "    # Compute the silhouette scores for each sample\n",
    "    sample_silhouette_values = silhouette_samples(X, cluster_labels)\n",
    "\n",
    "    y_lower = 10\n",
    "    for i in range(n_clusters):\n",
    "        # Aggregate the silhouette scores for samples belonging to\n",
    "        # cluster i, and sort them\n",
    "        ith_cluster_silhouette_values = \\\n",
    "            sample_silhouette_values[cluster_labels == i]\n",
    "\n",
    "        ith_cluster_silhouette_values.sort()\n",
    "\n",
    "        size_cluster_i = ith_cluster_silhouette_values.shape[0]\n",
    "        y_upper = y_lower + size_cluster_i\n",
    "\n",
    "        color = cm.nipy_spectral(float(i) / n_clusters)\n",
    "        ax1.fill_betweenx(np.arange(y_lower, y_upper),\n",
    "                          0, ith_cluster_silhouette_values,\n",
    "                          facecolor=color, edgecolor=color, alpha=0.7)\n",
    "\n",
    "        # Label the silhouette plots with their cluster numbers at the middle\n",
    "        ax1.text(-0.05, y_lower + 0.5 * size_cluster_i, str(i))\n",
    "\n",
    "        # Compute the new y_lower for next plot\n",
    "        y_lower = y_upper + 10  # 10 for the 0 samples\n",
    "\n",
    "    ax1.set_title(\"The silhouette plot for the various clusters.\")\n",
    "    ax1.set_xlabel(\"The silhouette coefficient values\")\n",
    "    ax1.set_ylabel(\"Cluster label\")\n",
    "\n",
    "    # The vertical line for average silhouette score of all the values\n",
    "    ax1.axvline(x=silhouette_avg, color=\"red\", linestyle=\"--\")\n",
    "\n",
    "    ax1.set_yticks([])  # Clear the yaxis labels / ticks\n",
    "    ax1.set_xticks([-0.1, 0, 0.2, 0.4, 0.6, 0.8, 1])\n",
    "\n",
    "    # 2nd Plot showing the actual clusters formed\n",
    "    colors = cm.nipy_spectral(cluster_labels.astype(float) / n_clusters)\n",
    "    ax2.scatter(X[:, 0], X[:, 1], marker='.', s=30, lw=0, alpha=0.7,\n",
    "                c=colors, edgecolor='k')\n",
    "\n",
    "    # Labeling the clusters\n",
    "    centers = clusterer.cluster_centers_\n",
    "    # Draw white circles at cluster centers\n",
    "    ax2.scatter(centers[:, 0], centers[:, 1], marker='o',\n",
    "                c=\"white\", alpha=1, s=200, edgecolor='k')\n",
    "\n",
    "    for i, c in enumerate(centers):\n",
    "        ax2.scatter(c[0], c[1], marker='$%d$' % i, alpha=1,\n",
    "                    s=50, edgecolor='k')\n",
    "\n",
    "    ax2.set_title(\"The visualization of the clustered data.\")\n",
    "    ax2.set_xlabel(\"Feature space for the 1st feature\")\n",
    "    ax2.set_ylabel(\"Feature space for the 2nd feature\")\n",
    "\n",
    "    plt.suptitle((\"Silhouette analysis for KMeans clustering on sample data \"\n",
    "                  \"with n_clusters = %d\" % n_clusters),\n",
    "                 fontsize=14, fontweight='bold')\n",
    "\n",
    "plt.show()\n"
   ]
  },
  {
   "cell_type": "code",
   "execution_count": null,
   "metadata": {},
   "outputs": [],
   "source": [
    "    ##############    ############   Calculating the Silhouette score of model   #############    ##############\n",
    "    \n",
    "    >>> from sklearn.metrics import silhouette_score\n",
    "    >>> silhouette_score(X, kmeans.labels_)"
   ]
  },
  {
   "cell_type": "markdown",
   "metadata": {},
   "source": [
    "#  Evaluation Matrices for Clustering Models"
   ]
  },
  {
   "cell_type": "markdown",
   "metadata": {},
   "source": [
    "**Cluster Validity**\n",
    "\n",
    "The validation of clusters created is a troublesome task. \n",
    "The problem here is: ”clusters are in the eyes of the beholder”\n",
    "\n",
    "_A good cluster will have:_\n",
    "* High inter-class similarity, and \n",
    "* Low intraclass similarity\n"
   ]
  },
  {
   "cell_type": "markdown",
   "metadata": {},
   "source": [
    "##### Aspects of cluster validation\n",
    "\n",
    "* **External:** Compare your cluster to the ground truth.\n",
    "* **Internal:** Evaluating the cluster without reference to external data.\n",
    "* **Reliability:** The clusters are not formed by chance(randomly)- some statistical framework can be used.\n"
   ]
  },
  {
   "cell_type": "markdown",
   "metadata": {},
   "source": [
    "##### External Measures:\n",
    "\n",
    "N: Number of objects in the data\n",
    "P: ${P_1,P_2,…,P_m}$ the set of ground truth clusters\n",
    "C: ${C_1,C_2,…C_n}$ the set of clusters formed by the algorithm\n",
    "\n",
    "The Incidence Matrix:\n",
    "N* N matrix\n",
    "\n",
    "$P_ij =1$ if the two points $O_i$ and $O_j$ belong to the same cluster in the ground truth else $P_ij=0$ \n",
    "\n",
    "$C_ij =1$ if the two points $O_i$ and $O_j$ belong to the same cluster in the ground truth else $C_ij=0$ \n",
    "\n",
    "Now there can be the following scenarios:\n",
    "1.\t$C_ij=P_ij=1$ --> both the points belong to the same cluster for both our algorithm and ground truth(Agree)--- **SS**\n",
    "2.\t$C_ij=P_ij=0$ --> both the points don’t belong to the same cluster for both our algorithm and ground truth(Agree)--- **DD**\n",
    "3.\t$_Cij=1 but P_ij=0$ --> The points belong in the same cluster for our algorithm but in different clusters for the ground truth (Disagree)---- **SD**\n",
    "4.\t$C_ij=0 but P_ij=1$ --> The points don’t belong in the same cluster for our algorithm but in same clusters for the ground truth (Disagree)----**DS**\n",
    "\n",
    "**Rand Index**= $\\frac{Total Agree}{Total Disagree}=\\frac{(SS+DD)}{(SS+DD+DS+SD)}$\n",
    "\n",
    "The disadvantage of this is that it could be dominated by DD.\n",
    "\n",
    "**Jaccard Coeeficient**=$\\frac{ SS}{(SS+SD+DS)}$\n"
   ]
  },
  {
   "cell_type": "code",
   "execution_count": 64,
   "metadata": {},
   "outputs": [
    {
     "name": "stdout",
     "output_type": "stream",
     "text": [
      "Rand Index: 0.952\n"
     ]
    }
   ],
   "source": [
    "print(\"Rand Index: %0.3f\"\n",
    "      % metrics.adjusted_rand_score(labels_true, labels))"
   ]
  },
  {
   "cell_type": "code",
   "execution_count": 65,
   "metadata": {},
   "outputs": [
    {
     "data": {
      "text/plain": [
       "0.972"
      ]
     },
     "execution_count": 65,
     "metadata": {},
     "output_type": "execute_result"
    }
   ],
   "source": [
    "metrics.jaccard_similarity_score(labels_true, labels)"
   ]
  },
  {
   "cell_type": "markdown",
   "metadata": {},
   "source": [
    "A higher value of Rand Index and Jaccard's coefficient mean that the clusters generated by our algorithm mostly agree to the ground truth."
   ]
  },
  {
   "cell_type": "markdown",
   "metadata": {},
   "source": [
    "**Confusion matrix:**\n",
    "\n",
    "$n$= number of points\n",
    "\n",
    "$m_i$=points in _cluster i_\n",
    "\n",
    "$c_j$=points in _class j_\n",
    "\n",
    "$n_{ij}$=  points in cluster i coming from cluster j\n",
    "\n",
    "$p_{ij}=\\frac{n_{ij}}{m_i}$= probability of element from cluster i to be assigned to class j\n",
    "\n",
    "\n",
    "<img src=\"images/conf1.PNG\" width= \"300\">\n",
    "<img src=\"images/prob_conf.png\" width= \"300\">\n"
   ]
  },
  {
   "cell_type": "markdown",
   "metadata": {},
   "source": [
    "**Entropy** \n",
    "Entropy of Cluster i, given by $e_i= - \\sum p_{ij} log (p_{ij})$\n",
    "\n",
    "For the entire clustering algorithm, the entropy can be given as: \n",
    "$e= \\sum \\frac{m_i}{n}e_i$\n",
    "\n",
    "**Purity**\n",
    " The purity is the total percentage of data points clustered correctly.\n",
    "\n",
    " The purity of  cluster i, given by $p_i=max (p_{ij})$ \n",
    "\n",
    "And for the entire cluster it is: $p(C)=\\sum \\frac{m_i}{n}p_i$\n",
    "\n",
    "The Scikit-Learn Package hasen't yet implemented the Purity metrics. Hence, we'll write our custom code to implememt that."
   ]
  },
  {
   "cell_type": "code",
   "execution_count": 67,
   "metadata": {},
   "outputs": [],
   "source": [
    "import numpy as np\n",
    "from sklearn import metrics\n",
    "\n",
    "def purity_score(y_true, y_pred):\n",
    "    # compute contingency matrix (also called confusion matrix)\n",
    "    contingency_matrix = metrics.cluster.contingency_matrix(y_true, y_pred)\n",
    "    # return purity\n",
    "    return np.sum(np.amax(contingency_matrix, axis=0)) / np.sum(contingency_matrix)"
   ]
  },
  {
   "cell_type": "code",
   "execution_count": 68,
   "metadata": {},
   "outputs": [
    {
     "data": {
      "text/plain": [
       "0.9813333333333333"
      ]
     },
     "execution_count": 68,
     "metadata": {},
     "output_type": "execute_result"
    }
   ],
   "source": [
    "purity_score(labels_true, labels)"
   ]
  },
  {
   "cell_type": "markdown",
   "metadata": {},
   "source": [
    "A high value of purity score means that our clustering algorithm performs well against the ground truth."
   ]
  },
  {
   "cell_type": "markdown",
   "metadata": {},
   "source": [
    "So far we have discussed the External Measures. But as it is an unsupervised learning problem, most of the times there is no ground truth to compare to.  Let’s discuss the internal measures.\n"
   ]
  },
  {
   "cell_type": "markdown",
   "metadata": {},
   "source": [
    "#### Internal Measures\n",
    "\n",
    "These are the methods use to measure the quality of clusters without external references. There are two aspects to it.\n",
    "\n",
    "* **Cohesion:** How closely the objects in the same cluster are related to each other. It is the within-cluster sum of squared distances. It is the same metric that we used to calculate for the K-Means algorithm.\n",
    "$WCSS= \\sum \\sum (x-m_i)^2$\n",
    "\n",
    "* **Separation:** How different the objects in different clusters are and how distinct a well-separated cluster is from other clusters. It is the between cluster sum of squared distances. $BSS=\\sum C_i(m-m_i)^2$\n",
    "\n",
    "Where C is the size of the individual cluster and m is the centroid of all the data points.\n",
    "\n",
    "**Note:** BSS+WSS is always a constant.\n",
    "\n",
    "The silhouette  can be calculated as:\n",
    "<img src=\"images/sil2.PNG\" width= \"300\">\n",
    "\n",
    "Where a(x) is the avarage distance of x from all the other points in the same cluster and b(x) is the avarage distance of x from all the other points in the other clusters.\n",
    "\n",
    "\n",
    "And the Silhoeutte coefficient is given by:\n",
    "\n",
    "$SC=\\frac{1}{N} \\sum S(x)$\n"
   ]
  },
  {
   "cell_type": "code",
   "execution_count": 62,
   "metadata": {},
   "outputs": [
    {
     "data": {
      "text/plain": [
       "0.972"
      ]
     },
     "execution_count": 62,
     "metadata": {},
     "output_type": "execute_result"
    }
   ],
   "source": [
    "metrics.silhouette_score"
   ]
  },
  {
   "cell_type": "markdown",
   "metadata": {},
   "source": [
    "A higher silhouette score means that the inter cluster similarity is less and the intra cluster dissimilarity is more which is the measure of good clustering."
   ]
  },
  {
   "cell_type": "markdown",
   "metadata": {},
   "source": [
    "# Some Questions regarding clustering approaches"
   ]
  },
  {
   "cell_type": "code",
   "execution_count": null,
   "metadata": {},
   "outputs": [],
   "source": [
    " 1.\tWhat is an unsupervised learning approach? Why is it needed?\n",
    " \n",
    " =>  Unsupervised Learning approach is an approach different to Supervised Learning approaches.\n",
    "      In Supervised Learning, we have to work with both Features and Labels and labels are going to supervised the whole\n",
    "        Training process.\n",
    "      \n",
    "      While in Unsupervised Learning, There is no any concept of Labels. We have to making groups based on some features \n",
    "       of dataset. Unsupervised learning is important in the field of data science to reveal patterns that could have \n",
    "        been missed.\n",
    "        \n",
    "  2.\tWhat is clustering?\n",
    "  \n",
    "  =>  It is basically a type of Unsupervised learning method . An unsupervised learning method is a method in which we draw \n",
    "      references from datasets consisting of input data without labelled responses. Generally, it is used as a process to find\n",
    "     meaningful structure, explanatory underlying processes, generative features, and groupings inherent in a set of examples.\n",
    "\n",
    " =>  Clustering is the task of dividing the population or data points into a number of groups such that data points in the same \n",
    "      groups are more similar to other data points in the same group and dissimilar to the data points in other groups\n",
    "     It is basically a collection of objects on the basis of similarity and dissimilarity between them.\n",
    "     \n",
    " =>  Clustering is an Unsupervised approach which finds a structure/pattern in a collection of unlabeled data.\n",
    "\n",
    " =>  A cluster is a collection of objects which are “similar” amongst themselves and are “dissimilar” to the objects\n",
    "        belonging to a different cluster.\n",
    "        \n",
    " =>  In the figure below, we can easily identify 4 different clusters. \n",
    "    The clustering criteria here is distance and whichever points are near to each other are kept in the same cluster and \n",
    "        the faraway points belong to a different cluster.\n",
    "        \n",
    "  3.\tHow do clustering and classification differ? \n",
    "  \n",
    "   =>  Both Classification and Clustering is used for categorisation of objects into one or more classes based on the features.\n",
    "      They appear to be a similar process as the basic difference is minute. In case of Classification, there are predefined\n",
    "       labels assigned to each input instances according to their properties whereas in clustering those labels are missing.\n",
    "    \n",
    " =>  Differences between Classification and Clustering\n",
    "\n",
    "    *  Classification is used for supervised learning whereas clustering is used for unsupervised learning.\n",
    "  \n",
    "    *  The process of classifying the input instances based on their corresponding class labels is known as classification\n",
    "         whereas grouping the instances based on their similarity without the help of class labels is known as clustering.\n",
    "  \n",
    "    *  As Classification have labels so there is need of training and testing dataset for verifying the model created but \n",
    "        there is no need for training and testing dataset in clustering.\n",
    "\n",
    "    *  Classification is more complex as compared to clustering as there are many levels in classification phase whereas \n",
    "         only grouping is done in clustering.\n",
    "\n",
    "    *  Classification examples are Logistic regression, Naive Bayes classifier, Support vector machines etc.\n",
    "        Whereas clustering examples are k-means clustering algorithm, Fuzzy c-means clustering algorithm, Gaussian (EM) \n",
    "          clustering algorithm.\n",
    "          \n",
    "    4.\tWhat are the various applications of clustering?\n",
    "    \n",
    "     *  Clustering Algorithm in Identifying Cancerous Data\n",
    "\n",
    "  Clustering algorithm can be used in identifying the cancerous data set. Initially we take known samples of  cancerous \n",
    "       and non cancerous data set. Label both the samples data set. We then randomly mix both samples and apply different\n",
    "     clustering algorithms into the mixed samples data set (this is known as learning phase of clustering algorithm) and \n",
    "     accordingly check the result for how many data set we are getting the correct results (since this is known samples we\n",
    "    already know the results beforehand) and hence we can calculate the percentage of correct results obtained. \n",
    "    Now,  for some arbitrary sample data set if we apply the same algorithm we can expect the result to be the same percentage \n",
    "     correct as we got during the learning phase of the particular algorithm. On this basis we can search for the best suitable \n",
    "     clustering algorithm for our data samples.\n",
    "\n",
    " \n",
    " *   Clustering Algorithm in Search Engines\n",
    "\n",
    "  Clustering algorithm is the backbone behind the search engines. Search engines try to group similar objects in one cluster \n",
    "      and the dissimilar objects far from each other. It provides result for the searched data according to the nearest similar object which are clustered around the data to be searched. Better the clustering algorithm used, better are the chances\n",
    "        of getting the required result on the front page. Hence, the definition of similar object play a crucial role in \n",
    "        getting the search results, better the definition of similar object better the result is.\n",
    " \n",
    " \n",
    " *   Clustering Algorithm in Academics\n",
    "\n",
    "  The ability to monitor the progress of students academic performance has been the critical issue for the academic\n",
    "       community of higher learning. Clustering algorithm can be used to monitor the students academic performance. \n",
    "      Based on the students score they are grouped into different-different clusters (using k-means, fuzzy c-means etc), \n",
    "       where each clusters denoting the different level of performance. By knowing the number of students in each cluster we can know the average performance of a class as a whole.\n",
    "    \n",
    "\n",
    " *   Clustering Algorithm in Wireless Sensor Network's based Application\n",
    "\n",
    "  Clustering Algorithm can be used effectively in Wireless Sensor Network's based application.\n",
    "     One application where it can be used is in Landmine detection. Clustering algorithm plays the role of finding the Cluster \n",
    "        heads(or cluster center) which collects all the data in its respective cluster.  \n",
    "        \n",
    "     \n",
    " * __For customer segmentation:__ You can cluster your customers based on their purchases,their activity on your website, and so on. This is useful to understand who your customers are and what they need, so you can adapt your products and marketing campaigns to each segment. For example, this can be useful in recommender systems to suggest content that other users in the same cluster enjoyed.\n",
    "\n",
    "\n",
    "* __For data analysis:__ When analyzing a new dataset, it is often useful to first discover clusters of similar instances, as it is often easier to analyze clusters separately.\n",
    "\n",
    "\n",
    "* __As a dimensionality reduction technique:__ Once a dataset has been clustered, it is usually possible to measure each instance’s affinity with each cluster (affinity is any measure of how well an instance fits into a cluster). Each instance’s feature vector x can then be replaced with the vector of its cluster affinities. If there are k clusters, then this vector is k dimensional. This is typically much lower dimensional than the original feature vector, but it can preserve enough information for further processing.\n",
    "\n",
    "\n",
    "* __For anomaly detection (also called outlier detection):__ Any instance that has a low affinity to all the clusters is likely to be an anomaly. For example, if you have clustered the users of your website based on their behavior, you can detect users with unusual behavior, such as an unusual number of requests per second, and so on. Anomaly detection is particularly useful in detecting defects in manufacturing, or for fraud detection.\n",
    "\n",
    "\n",
    "* __For semi-supervised learning:__ If you only have a few labels, you could perform clustering and propagate the labels to all the instances in the same cluster. This can greatly increase the amount of labels available for a subsequent supervised learning algorithm, and thus improve its performance.\n",
    ".\n",
    "\n",
    "* __For search engines:__ For example, some search engines let you search for images that are similar to a reference image. To build such a system, you would first apply a clustering algorithm to all the images in your database: similar images would end up in the same cluster. Then when a user provides a reference image, all you need to do is to find this image’s cluster using the trained clustering model, and you can then simply return all the images from this cluster.\n",
    "\n",
    "\n",
    "* __To segment an image:__ By clustering pixels according to their color, then replacing each pixel’s color with the mean color of its cluster, it is possible to reduce the number of different colors in the image considerably. This technique is used in many object detection and tracking systems, as it makes it easier to detect the contour of each object.\n",
    "\n",
    "5.\tHow does clustering play a role in supervised learning?\n",
    "\n",
    " =>  Solving any real life problems using Machine learning approaches, we have to work with some different - different sizes\n",
    "     and dimensions of data. Our data set is not straightforward, that we have to fit the desired ML model directly and we get \n",
    "        desired output. This can results a ML model with overfitting or underfitting type of cases.\n",
    "    So, at very first, we should use to divide our datasets into different-different clusters and then according to their \n",
    "     features, we apply required ML models.\n",
    "     \n",
    "    Hence, Clustering plays a crucial role also in Supervised Learning.\n",
    "    \n",
    "    6.\tWhat are the requirements to be met by a clustering algorithm?\n",
    "    \n",
    "       ##############   ###########   Primary requirements for a Clustering algorithm   ############   ###############\n",
    "\n",
    " =>  It should be scalable\n",
    " =>  It should be able to deal with attributes of different types;\n",
    " =>  It should be able to discover arbitrary shape clusters;\n",
    " =>  It should have an inbuilt ability to deal with noise and outliers;\n",
    " =>  The clusters should not vary with the order of input records;\n",
    " =>  It should be able to handle data of high dimensions.\n",
    " =>  It should be easy to interpret and use.\n",
    "\n",
    "7.\tDiscuss the different approaches for clustering.\n",
    "\n",
    " =>  There are various approaches of clustering.\n",
    "    \n",
    "    *  MiniBatch K-means Clustering\n",
    "    \n",
    "    *  Hierchical clustering\n",
    "    \n",
    "    *  Density-Based Scanning or DBSCAN\n",
    "    \n",
    "    *  Affinity Propagation\n",
    "    \n",
    "    *  Meanshift\n",
    "    \n",
    "    *  Spectral Clustering\n",
    "    \n",
    "    *  Agglomerative Clustering\n",
    "    \n",
    "    *  Ward clustering\n",
    "    \n",
    "    *  Birch Clustering\n",
    "    \n",
    "    *  Gaussian Mixture Clustering\n",
    "    \n",
    "    *  Optics Clustering\n",
    "    \n",
    " 8.\tWhat is WCSS?\n",
    "    \n",
    " 9.\tDiscuss the elbow method.\n",
    " \n",
    " 11.\tDiscuss the step by step implementation of K-Means Clustering.\n",
    " \n",
    " 10.\tWhat is the significance of ‘K’ in K-Means and how is it calculated?\n",
    " \n",
    " 12.\tWhat are the challenges with K-Means?\n",
    " \n",
    " 13.\tDiscuss the various improvements in K-Means.\n",
    " \n",
    " \n",
    " #### Hierarchical Clustering:\n",
    "14.\tDiscuss the agglomerative and divisive clustering approaches.\n",
    "\n",
    "15.\tWhat are dendrograms?\n",
    "\n",
    "16.\tDiscuss the Hierarchical clustering in detail.\n",
    "\n",
    "17.\tDiscuss the various linkage methods for clustering.\n",
    "\n",
    "18.\tDiscuss the differences between K-Means and Hierarchical clustering.\n",
    "\n",
    "#### DBSCAN\n",
    "19.\tDiscuss the basic terms used in DBSCAN.\n",
    "\n",
    "20.\tDiscuss the step by step implementation of DBSCAN.\n",
    "\n",
    "##### Cluster Evaluation\n",
    "21.\tWhat are the aspects of cluster validation?\n",
    "\n",
    "22.\tWhat is a confusion matrix?\n",
    "\n",
    "23.\tWhat is Jaccard’s coefficient?\n",
    "\n",
    "24.\tWhat is Rand Index?\n",
    "\n",
    "25.\tWhat is the entropy of a cluster?\n",
    "\n",
    "26.\tDiscuss the purity of a cluster.\n",
    "\n",
    "27.\tWhat are cohesion and compression?\n",
    "\n",
    "28.\tWhat are the steps for AWS deployment?\n",
    "\n",
    "29.\tWhat difficulties did you face while deploying to AWS?"
   ]
  }
 ],
 "metadata": {
  "kernelspec": {
   "display_name": "Python 3",
   "language": "python",
   "name": "python3"
  },
  "language_info": {
   "codemirror_mode": {
    "name": "ipython",
    "version": 3
   },
   "file_extension": ".py",
   "mimetype": "text/x-python",
   "name": "python",
   "nbconvert_exporter": "python",
   "pygments_lexer": "ipython3",
   "version": "3.8.5"
  }
 },
 "nbformat": 4,
 "nbformat_minor": 2
}
